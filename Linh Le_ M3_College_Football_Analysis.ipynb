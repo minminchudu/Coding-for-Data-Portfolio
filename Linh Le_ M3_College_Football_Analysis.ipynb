{
 "cells": [
  {
   "cell_type": "markdown",
   "id": "k1TnaYHidPrb",
   "metadata": {
    "id": "k1TnaYHidPrb"
   },
   "source": [
    "# **Milestone** | College Football Data Analysis\n",
    "\n",
    "<div style=\"text-align: center;\">\n",
    "<img src=\"https://upload.wikimedia.org/wikipedia/en/thumb/c/cf/NCAA_football_icon_logo.svg/2560px-NCAA_football_icon_logo.svg.png\" alt=\"NCAA Football logo\" width=\"200\"/>\n",
    "</div>\n"
   ]
  },
  {
   "cell_type": "markdown",
   "id": "phduzTzk4vDo",
   "metadata": {
    "id": "phduzTzk4vDo"
   },
   "source": [
    "## Introduction\n",
    "Welcome to the world of college football. For this Milestone, you're part of a data-driven sports analytics team, working with a major sports organization or university to help improve the performance of football teams. Your task is to dive into the data of Division I universities with football teams, extracting\n",
    "insights that just might influence decisions on recruitment, conference performance, and enrollment strategies.\n",
    "\n",
    "With the college football season in full swing, your work will help the organization answer key questions.\n",
    "\n",
    "Let's begin by exploring the data at hand.\n",
    "\n",
    "<div style=\"border: 3px solid #f8c43e; background-color: #fff3c1; padding: 15px; border-radius: 8px; color: #222; display: flex; align-items: center;\">\n",
    "  <span style=\"font-size: 10pt;\">\n",
    "      To import this data, remember to run the following cell.\n",
    "  </span>\n",
    "</div>\n",
    "\n"
   ]
  },
  {
   "cell_type": "code",
   "execution_count": 3,
   "id": "6FYTyHC94vDq",
   "metadata": {
    "id": "6FYTyHC94vDq"
   },
   "outputs": [],
   "source": [
    "# load the data\n",
    "import sys\n",
    "sys.path.append('../files')\n",
    "\n",
    "from ncaa_fbs import nickname, enrollment"
   ]
  },
  {
   "cell_type": "markdown",
   "id": "sa5lhzUVeY5G",
   "metadata": {
    "id": "sa5lhzUVeY5G"
   },
   "source": [
    "## Data Exploration: Nicknames and Enrollments\n",
    "\n",
    "We have two primary datasets: `nickname` and `enrollment`. The `nickname` dictionary provides the university name as keys and their respective team nicknames as values. The `enrollment` dictionary contains the university names as keys and their student enrollments as values.\n",
    "\n",
    "Here are code snippets of each dicitonary to give you an understanding of their structure.\n",
    "\n",
    "```python\n",
    "nickname = {'Air Force': 'Falcons',\n",
    "            'Akron': 'Zips',\n",
    "            'Alabama': 'Crimson Tide',\n",
    "            'Appalachian State': 'Mountaineers',\n",
    "            'Arizona': 'Wildcats',\n",
    "            'Arizona State': 'Sun Devils',\n",
    "            'Arkansas': 'Razorbacks',\n",
    "            'Arkansas State': 'Red Wolves',\n",
    "            'Army': 'Black Knights',\n",
    "            'Auburn': 'Tigers',\n",
    "            'Ball State': 'Cardinals',\n",
    "              ...\n",
    "            'Wisconsin': 'Badgers',\n",
    "            'Wyoming': 'Cowboys'}\n",
    "```\n",
    "\n",
    "The team from `Arizona State`, Dr. Crider's and Dr. Alvarez's alma mater, has the nickname `Sun Devils`.\n",
    "\n",
    "```python\n",
    "enrollment  = {'Air Force': 4181,\n",
    "               'Akron': 14516,\n",
    "               'Alabama': 38316,\n",
    "               'Appalachian State': 20641,\n",
    "               'Arizona': 49471,\n",
    "               'Arizona State': 77881,\n",
    "               'Arkansas': 29068,\n",
    "               'Arkansas State': 12863,\n",
    "               'Army': 4594,\n",
    "               'Auburn': 31526,\n",
    "               'Ball State': 19337,\n",
    "                 ...\n",
    "               'Wisconsin': 47932,\n",
    "               'Wyoming': 11479}\n",
    "```\n",
    "\n",
    "The student population at `Arizona State` is `77,881` students."
   ]
  },
  {
   "cell_type": "markdown",
   "id": "3FDhr93N_1Id",
   "metadata": {
    "id": "3FDhr93N_1Id"
   },
   "source": [
    "To get an even better sense of this data, let's examine a few entries. Preview the data for `Purdue`, by passing this *key* to each one of the dictionaries and printing the associated *value*."
   ]
  },
  {
   "cell_type": "code",
   "execution_count": 4,
   "id": "kDQv-Nve4vDv",
   "metadata": {
    "id": "kDQv-Nve4vDv",
    "outputId": "e2004fb3-1783-4205-e9d1-763d874f40fb"
   },
   "outputs": [
    {
     "name": "stdout",
     "output_type": "stream",
     "text": [
      "Boilermakers\n",
      "49639\n"
     ]
    }
   ],
   "source": [
    "# Preview the data for Purdue\n",
    "print(nickname['Purdue'])       \n",
    "print(enrollment['Purdue'])"
   ]
  },
  {
   "cell_type": "markdown",
   "id": "dUR5rouA4vDv",
   "metadata": {
    "id": "dUR5rouA4vDv"
   },
   "source": [
    "The nickname for Purdue is \"Boilermakers\" and have a student population of 49,639 students. Let's move on to\n",
    "analyzing this information."
   ]
  },
  {
   "cell_type": "markdown",
   "id": "dptL5yNrgUTO",
   "metadata": {
    "id": "dptL5yNrgUTO"
   },
   "source": [
    "### Task 1: Team Count\n",
    "\n",
    "As a first step, determine the total number of Division I Football Bowl\n",
    "Subdivision (FBS) teams in our dataset. This will give us a sense of the\n",
    "scope of our analysis. Store the result in a variable named `n_teams`.\n",
    "\n",
    "Use an f-string to print out a complete sentence with the number of teams in the Division I FBS.\n",
    "\n",
    "<div style=\"border: 3px solid #b67ae5; background-color: #f9f1ff; padding: 15px; border-radius: 8px; color: #222; display: flex; align-items: center;\">\n",
    "<span style=\"font-size: 10pt;\">\n",
    "<strong>Hint: </strong>Remember that the number of keys in any of the dictionaries will give you the total number of teams.\n",
    "</span>\n",
    "</div>\n",
    "\n",
    "\n",
    "\n"
   ]
  },
  {
   "cell_type": "code",
   "execution_count": 5,
   "id": "F7v-FXY-4vDw",
   "metadata": {
    "id": "F7v-FXY-4vDw",
    "outputId": "9681efc3-1a1f-4448-d46c-a8a7b06631a2"
   },
   "outputs": [
    {
     "name": "stdout",
     "output_type": "stream",
     "text": [
      "There are 131 teams in the Division I FBS.\n"
     ]
    }
   ],
   "source": [
    "# How many FBS teams are there?\n",
    "n_teams = len(nickname)\n",
    "# print the required output\n",
    "print(f\"There are {n_teams} teams in the Division I FBS.\")"
   ]
  },
  {
   "cell_type": "markdown",
   "id": "mrEw8aZT4vDx",
   "metadata": {
    "id": "mrEw8aZT4vDx"
   },
   "source": [
    "### Task 2: Identifying Team Nicknames\n",
    "\n",
    "Your team is interested in identifying all universities with the nickname \"Tigers\". Use a loop to iterate through each team in the `nickname` dictionary. For each team, use a conditional to check `if` their nickname is \"Tigers\". If so, append the university name to a Python list named `matches`.\n",
    "\n",
    "Print `matches` to the screen.\n",
    "\n",
    "<div style=\"border: 3px solid #b67ae5; background-color: #f9f1ff; padding: 15px; border-radius: 8px; color: #222; display: flex; align-items: center;\">\n",
    "<span style=\"font-size: 10pt;\">\n",
    "<strong>Hint: </strong>In order to access the school's nickname, you have to pass the name of the school as the key.\n",
    "</span>\n",
    "</div>\n",
    "\n"
   ]
  },
  {
   "cell_type": "code",
   "execution_count": 6,
   "id": "8X7AHLtQ4vDy",
   "metadata": {
    "id": "8X7AHLtQ4vDy",
    "outputId": "f6971617-e3b0-447f-a608-e80618d089c9"
   },
   "outputs": [
    {
     "name": "stdout",
     "output_type": "stream",
     "text": [
      "['Auburn', 'Clemson', 'LSU', 'Memphis', 'Missouri']\n"
     ]
    }
   ],
   "source": [
    "# set up an empty list for matching universities\n",
    "matches = []\n",
    "\n",
    "# loop over universities and append to list of matches when a match is found\n",
    "for school in nickname:\n",
    "    if nickname[school] == \"Tigers\":\n",
    "        matches.append(school)\n",
    "        \n",
    "# print the required output\n",
    "print(matches)"
   ]
  },
  {
   "cell_type": "markdown",
   "id": "YbyZZWGg7gr7",
   "metadata": {
    "id": "YbyZZWGg7gr7"
   },
   "source": [
    "<div style=\"border: 3px solid #f8c43e; background-color: #fff3c1; padding: 15px; border-radius: 8px; color: #222; display: flex; align-items: center;\">\n",
    "  <span style=\"font-size: 10pt;\">\n",
    "      If done correctly, your output should be a list containing <strong>5 universities</strong>.\n",
    "  </span>\n",
    "</div>\n",
    "\n"
   ]
  },
  {
   "cell_type": "markdown",
   "id": "jRAva3eW4vDz",
   "metadata": {
    "id": "jRAva3eW4vDz"
   },
   "source": [
    "### Task 3: University Enrollment\n",
    "\n",
    "Next, you'll analyze the enrollment data to identify universities with enrollments smaller than 10,000 and those larger than 50,000 in order to determine if there are more FBS teams with a small student body or more FBS teams with a large student body.\n",
    "\n",
    "Use a loop to iterate through each team in the `enrollment` dictionary.\n",
    "*   If a university's enrollment is smaller than 10,000, increase the counting variable named `small_unis` by `1`.\n",
    "*   If a university's enrollment is larger than 50,000, increase the counting variable named `small_unis` by 1.\n"
   ]
  },
  {
   "cell_type": "code",
   "execution_count": 9,
   "id": "o6jJW94q4vDz",
   "metadata": {
    "id": "o6jJW94q4vDz",
    "outputId": "0212bc03-467b-44c9-e6da-71ea54ae8b66"
   },
   "outputs": [
    {
     "name": "stdout",
     "output_type": "stream",
     "text": [
      "Number of universities with <10,000 students: 7\n",
      "Number of universities with >50,000 students: 14\n"
     ]
    }
   ],
   "source": [
    "# set up counter variables\n",
    "small_unis = 0\n",
    "large_unis = 0\n",
    "\n",
    "# loop over all universities\n",
    "for school in enrollment:\n",
    "    if enrollment[school] < 10000:\n",
    "        small_unis += 1\n",
    "    elif enrollment[school] > 50000:\n",
    "        large_unis += 1\n",
    "\n",
    "# print the required outputs\n",
    "print(f\"Number of universities with <10,000 students: {small_unis}\")\n",
    "print(f\"Number of universities with >50,000 students: {large_unis}\")\n"
   ]
  },
  {
   "cell_type": "markdown",
   "id": "zWL3uLXK8dab",
   "metadata": {
    "id": "zWL3uLXK8dab"
   },
   "source": [
    "Are there more FBS universities with enrollments smaller than 10,000, or with enrollments larger than 50,000?"
   ]
  },
  {
   "cell_type": "markdown",
   "id": "NeDx_qps4vDz",
   "metadata": {
    "id": "NeDx_qps4vDz"
   },
   "source": [
    "*Yes, there are twice as many (14) universities with enrollments over 50k than there are universities with less than 10k students*"
   ]
  },
  {
   "cell_type": "markdown",
   "id": "d5w3rcAT-xv9",
   "metadata": {
    "id": "d5w3rcAT-xv9"
   },
   "source": [
    "<div style=\"border: 3px solid #30EE99; background-color: #f0fff4; padding: 15px; border-radius: 8px; color: #222; display: flex; align-items: center;\">\n",
    "  <span style=\"font-size: 10pt;\">\n",
    "    <strong>Try This AI Prompt:</strong> How might university enrollment be relevant to a college football conference when making strategic decisions?\n",
    "  </span>\n",
    "</div>"
   ]
  },
  {
   "cell_type": "code",
   "execution_count": 10,
   "id": "BhEoyPjk4vD1",
   "metadata": {
    "id": "BhEoyPjk4vD1"
   },
   "outputs": [],
   "source": [
    "# run this cell to import more data!\n",
    "from ncaa_fbs import fbs_teams"
   ]
  },
  {
   "cell_type": "markdown",
   "id": "d_8-80Ho4vD1",
   "metadata": {
    "id": "d_8-80Ho4vD1"
   },
   "source": [
    "### Task 4: Conference Enrollment Breakdown\n",
    "\n",
    "The dictionary variable used in this task is called `fbs_teams`. In it, each university is now associated with a list of values, instead of one dictionary for each value.\n",
    "\n",
    "For each university, the associated list contains items in this order:\n",
    "* Index 0: Nickname\n",
    "* Index 1: City\n",
    "* Index 2: State\n",
    "* Index 3: Enrollment\n",
    "* Index 4: Conference\n",
    "\n",
    "Here is a snippet of `fbs_teams` for a few entries in the dictionary:\n",
    "\n",
    "```python\n",
    "{ ...\n",
    " 'Arizona State': ['Sun Devils', 'Tempe', 'Arizona', 77881, 'Pac-12'],\n",
    " 'Arkansas': ['Razorbacks', 'Fayetteville', 'Arkansas', 29068, 'SEC'],\n",
    " 'Arkansas State': ['Red Wolves', 'Jonesboro', 'Arkansas', 12863, 'Sun Belt'],\n",
    "  ...\n",
    "}\n",
    "```"
   ]
  },
  {
   "cell_type": "markdown",
   "id": "ccDrjlXBwZOU",
   "metadata": {
    "id": "ccDrjlXBwZOU"
   },
   "source": [
    "Just like before, preview the data for one university, `Arizona State`, by passing this *key* to the `fbs_teams` dictionary, and printing the associated *value*."
   ]
  },
  {
   "cell_type": "code",
   "execution_count": 13,
   "id": "mfQl89JU4vD1",
   "metadata": {
    "id": "mfQl89JU4vD1",
    "outputId": "efcf4bff-2050-4b14-91d9-9f5d5735d3ad"
   },
   "outputs": [
    {
     "name": "stdout",
     "output_type": "stream",
     "text": [
      "['Sun Devils', 'Tempe', 'Arizona', 77881, 'Pac-12']\n",
      "Sun Devils\n",
      "Tempe\n",
      "Arizona\n",
      "77881\n",
      "Pac-12\n"
     ]
    }
   ],
   "source": [
    "# preview the data for Arizona State\n",
    "# print the whole list of values\n",
    "print(fbs_teams['Arizona State'])\n",
    "# print just the nickname\n",
    "print(fbs_teams['Arizona State'][0])\n",
    "# print just the city\n",
    "print(fbs_teams['Arizona State'][1])\n",
    "# print just the state\n",
    "print(fbs_teams['Arizona State'][2])\n",
    "# print just the enrollment\n",
    "print(fbs_teams['Arizona State'][3])\n",
    "# print just the conference\n",
    "print(fbs_teams['Arizona State'][4])"
   ]
  },
  {
   "cell_type": "markdown",
   "id": "7a8c55c0-3db5-4a51-8d0f-640d0227a413",
   "metadata": {
    "id": "7a8c55c0-3db5-4a51-8d0f-640d0227a413"
   },
   "source": [
    "In the code above we can see that Arizona State are called the **Sun Devils**, are located in the city of **Tempe** in the state of **Arizona**. They have a total student population of **77,881**, and play in the **Pac-12** conference!"
   ]
  },
  {
   "cell_type": "markdown",
   "id": "QkYAT7UhwuXh",
   "metadata": {
    "id": "QkYAT7UhwuXh"
   },
   "source": [
    "We'll use this dictionary to answer the following questions:\n",
    "1. **Does the Big 12 conference actually have twelve schools?**  \n",
    "2. **What is the total enrollment across these Big 12 universities?**\n",
    "3. **What is the average enrollment across these Big 12 universities?**\n"
   ]
  },
  {
   "cell_type": "markdown",
   "id": "_o2xSrptEo9i",
   "metadata": {
    "id": "_o2xSrptEo9i"
   },
   "source": [
    "One approach to answering these questions is to store the enrollment for each school in a `list`, called `students`, defined below.\n",
    "\n",
    "Then the provided print statement will use different functions to calculate the values needed. Remember, each entry in `students` will correspond to a single university. It's `len`gth will be the number of universities in the Big 12. The `sum` will be the total enrolllment in the Big 12 conference. And the average enrollment can be calculated by combining the `len` and `sum` functions.\n",
    "\n",
    "Use the code template below to complete Task 4."
   ]
  },
  {
   "cell_type": "code",
   "execution_count": 15,
   "id": "PmgiPVE64vD1",
   "metadata": {
    "id": "PmgiPVE64vD1",
    "outputId": "e827c22b-9588-4c65-fb23-642bd6419a0e"
   },
   "outputs": [
    {
     "name": "stdout",
     "output_type": "stream",
     "text": [
      "Number of Big 12 universities: 10\n",
      "Total enrollment in Big 12: 280990\n",
      "Average enrollment in Big 12: 28099.0\n"
     ]
    }
   ],
   "source": [
    "# approach 1: using a list followed by summary functions\n",
    "students = []\n",
    "\n",
    "# loop over universities, and append enrollments to the list\n",
    "for school in fbs_teams:\n",
    "    if fbs_teams[school][4] == 'Big 12':\n",
    "        students.append(fbs_teams[school][3])\n",
    "\n",
    "# print the statistics\n",
    "print(f\"Number of Big 12 universities: {len(students)}\")\n",
    "print(f\"Total enrollment in Big 12: {sum(students)}\")\n",
    "print(f\"Average enrollment in Big 12: {sum(students) / len(students)}\")"
   ]
  },
  {
   "cell_type": "markdown",
   "id": "kPB7vnGN-Xfu",
   "metadata": {
    "id": "kPB7vnGN-Xfu"
   },
   "source": [
    "<div style=\"border: 3px solid #f8c43e; background-color: #fff3c1; padding: 15px; border-radius: 8px; color: #222; display: flex; align-items: center;\">\n",
    "  <span style=\"font-size: 10pt;\">\n",
    "      If done correctly, you will have **10** schools in the Big 12 conference. Weird, right?!?!\n",
    "  </span>\n",
    "</div>\n",
    "\n"
   ]
  },
  {
   "cell_type": "markdown",
   "id": "4x7zkLt8yqPz",
   "metadata": {
    "id": "4x7zkLt8yqPz"
   },
   "source": [
    "A different approach is to use **accumulator** variables. An accumulator variable is a variable that is modified in each iteration of the loop. For example, if you are storing the number of students for each university, outside of the loop you will define `n_students = 0` but within the loop you will increment the value of `n_students` for every university that matches your criteria. Incrementing and assigning back to the same variable can be done with the `+=` operator.\n",
    "\n",
    "In the code below, you have two accumulator variables, `n_students` and `n_universities` both set to zero intially. For each item in your loop that matches the criteria you will update the `n_students` variable based on the enrollment at that university and increment the `n_universities` by `1`.\n",
    "\n",
    "The print statement provided at the end will show the results in the cell output."
   ]
  },
  {
   "cell_type": "code",
   "execution_count": 16,
   "id": "TOite24b4vD2",
   "metadata": {
    "id": "TOite24b4vD2",
    "outputId": "4c30b44e-e693-4936-b419-03fd9319d09a"
   },
   "outputs": [
    {
     "name": "stdout",
     "output_type": "stream",
     "text": [
      "Number of Big 12 universities: 10\n",
      "Total enrollment in Big 12: 280990\n",
      "Average enrollment in Big 12: 28099.0\n"
     ]
    }
   ],
   "source": [
    "# approach 2: using two numeric variables to accumulate the results\n",
    "n_students = 0\n",
    "n_universities = 0\n",
    "\n",
    "# loop over universities, and accumulate values\n",
    "for school in fbs_teams:\n",
    "    if fbs_teams[school][4] == 'Big 12':\n",
    "        n_students += fbs_teams[school][3]\n",
    "        n_universities += 1\n",
    "\n",
    "\n",
    "# print the results\n",
    "print(f\"Number of Big 12 universities: {n_universities}\")\n",
    "print(f\"Total enrollment in Big 12: {n_students}\")\n",
    "print(f\"Average enrollment in Big 12: {n_students / n_universities}\")"
   ]
  },
  {
   "cell_type": "markdown",
   "id": "wItWiVyZPxxt",
   "metadata": {
    "id": "wItWiVyZPxxt"
   },
   "source": [
    "<div style=\"border: 3px solid #30EE99; background-color: #f0fff4; padding: 15px; border-radius: 8px; color: #222; display: flex; align-items: center;\">\n",
    "  <span style=\"font-size: 10pt;\">\n",
    "    <strong>Try This AI Prompt:</strong> I explored two distinct methods for aggregating data: using a list to store values and then calculating statistics versus using accumulator variables within a loop. Compare and contrast the two approaches. Explain a scenario where one approach might be preferred over the other.\n",
    "  </span>\n",
    "</div>"
   ]
  },
  {
   "cell_type": "markdown",
   "id": "ffiN2vnfRYeI",
   "metadata": {
    "id": "ffiN2vnfRYeI"
   },
   "source": [
    "## Task 5: Highlighting Areas for Further Investigation\n",
    "\n",
    "Based on your initial findings, what are 2-3 key questions or areas that the athletic department should explore further? What additional data would be valuable to gather?\n",
    "\n",
    "Remember, you can use ChatGPT to brainstorm and structure your recommendations in a clear, professional manner!\n"
   ]
  },
  {
   "cell_type": "markdown",
   "id": "nwp-8KnLRyrd",
   "metadata": {
    "id": "nwp-8KnLRyrd"
   },
   "source": [
    "* Questions: \n",
    "Does enrollment size correlate with football team performance or recruitment success?\n",
    "\n",
    "How does conference size and average enrollment affect media exposure and revenue?\n",
    "\n",
    "What is the geographic or demographic diversity of the student body in relation to team support?\n",
    "\n",
    "* Additional data to gather: \n",
    "\n",
    "Win/loss records for each team over the past 5 years\n",
    "\n",
    "Recruitment budgets and outcomes\n",
    "\n",
    "Athletic department revenue by sport\n",
    "\n",
    "Geographic distribution of student enrollment\n"
   ]
  },
  {
   "cell_type": "markdown",
   "id": "4YFQHYb74vD2",
   "metadata": {
    "id": "4YFQHYb74vD2"
   },
   "source": [
    "## LevelUp\n",
    "\n",
    "Yet another way of storing the Division I universities information is by using a dictionary with *dictionaries* for values. In the task above you had a dictionary with a *list* for values. To get to the desired value, you would use the appropriate index.\n",
    "\n",
    "In the case of a dictionary with dictionary values, you would instead use the *key* associated with the desired value.\n",
    "\n",
    "A snippet of the `fbs_teams_dict` would look like:\n",
    "\n",
    "```python\n",
    "{...\n",
    " 'Arizona': {'nickname': 'Wildcats',\n",
    "             'city': 'Tucson',\n",
    "             'state': 'Arizona',\n",
    "             'enrollment': 49471,\n",
    "             'conference': 'Pac-12'},\n",
    " 'Arizona State': {'nickname': 'Sun Devils',\n",
    "                   'city': 'Tempe',\n",
    "                   'state': 'Arizona',\n",
    "                   'enrollment': 77881,\n",
    "                   'conference': 'Pac-12'},\n",
    " 'Arkansas': {'nickname': 'Razorbacks',\n",
    "              'city': 'Fayetteville',\n",
    "              'state': 'Arkansas',\n",
    "              'enrollment': 29068,\n",
    "              'conference': 'SEC'},\n",
    "...\n",
    "```\n",
    "\n",
    "<div style=\"border: 3px solid #f8c43e; background-color: #fff3c1; padding: 15px; border-radius: 8px; color: #222; display: flex; align-items: center;\">\n",
    "  <span style=\"font-size: 10pt;\">\n",
    "      To import this data, run the following cell.\n",
    "  </span>\n",
    "</div>"
   ]
  },
  {
   "cell_type": "code",
   "execution_count": 17,
   "id": "8_czoCOi4vD2",
   "metadata": {
    "id": "8_czoCOi4vD2"
   },
   "outputs": [],
   "source": [
    "# import data\n",
    "from ncaa_fbs import fbs_teams_dict"
   ]
  },
  {
   "cell_type": "markdown",
   "id": "RQzo7YZRUEgV",
   "metadata": {
    "id": "RQzo7YZRUEgV"
   },
   "source": [
    "Compare this to the `fbs_teams` structure you used for Task 4. Store all the enrollment for Purdue University in a variable called `purdue_data`. Print `purdue_data` to the screen.\n"
   ]
  },
  {
   "cell_type": "code",
   "execution_count": 18,
   "id": "9gz7aOEs4vD3",
   "metadata": {
    "id": "9gz7aOEs4vD3",
    "outputId": "92975b2d-0a73-4e22-ab57-90b52f252d3f"
   },
   "outputs": [
    {
     "name": "stdout",
     "output_type": "stream",
     "text": [
      "{'nickname': 'Boilermakers', 'city': 'West Lafayette', 'state': 'Indiana', 'enrollment': 49639, 'conference': 'Big Ten'}\n"
     ]
    }
   ],
   "source": [
    "# Print out all the enrollment for Purdue University\n",
    "purdue_data = fbs_teams_dict['Purdue']\n",
    "print(purdue_data)"
   ]
  },
  {
   "cell_type": "markdown",
   "id": "lUZJ1Eel4vD3",
   "metadata": {
    "id": "lUZJ1Eel4vD3"
   },
   "source": [
    "Notice that 'purdue_data' is itself a dictionary. If we want to get the enrollment for Purdue University, we still have 'Purdue' as the outer dictionary key, but now we specify the `'enrollment'` feature for the inner dictionary key:\n"
   ]
  },
  {
   "cell_type": "code",
   "execution_count": 20,
   "id": "psNVmbsm4vD3",
   "metadata": {
    "id": "psNVmbsm4vD3",
    "outputId": "61086907-b1db-403f-ed38-54b5ce7bd055"
   },
   "outputs": [
    {
     "name": "stdout",
     "output_type": "stream",
     "text": [
      "49639\n"
     ]
    }
   ],
   "source": [
    "# use the appropriate key to get the enrollment for Purdue University.\n",
    "# recall that before we used the appropriate *index* to get the enrollment.\n",
    "print(purdue_data['enrollment'])"
   ]
  },
  {
   "cell_type": "markdown",
   "id": "kOFWjZHk4vD3",
   "metadata": {
    "id": "kOFWjZHk4vD3"
   },
   "source": [
    "Your task is to replicate the conference enrollment analysis from Task 4, but using the `fbs_teams_dict` structure. This exercise will reinforce your understanding of nested dictionaries and data manipulation.\n",
    "\n",
    "Specifically, calculate the following for the 'Big 12' conference:\n",
    "\n",
    "1.  The number of universities.\n",
    "2.  The total student enrollment.\n",
    "3.  The average student enrollment.\n",
    "\n",
    "\n",
    "<div style=\"border: 3px solid #b67ae5; background-color: #f9f1ff; padding: 15px; border-radius: 8px; color: #222; display: flex; align-items: center;\">\n",
    "<span style=\"font-size: 10pt;\">\n",
    "<strong>Note: </strong>The key order is really important when accessing nested dictionaries! Attempting to access the conference first will result in an error!!\n",
    "</span>\n",
    "</div>\n",
    "\n"
   ]
  },
  {
   "cell_type": "code",
   "execution_count": 21,
   "id": "xS5zmHps4vD3",
   "metadata": {
    "id": "xS5zmHps4vD3",
    "outputId": "a31675e6-d6ff-4070-c725-d8e88e975d19"
   },
   "outputs": [
    {
     "name": "stdout",
     "output_type": "stream",
     "text": [
      "Number of Big 12 universities: 10\n",
      "Total enrollment in Big 12: 280990\n",
      "Average enrollment in Big 12: 28099.0\n"
     ]
    }
   ],
   "source": [
    "# Task 4 -- approach 2: using two numeric variables to accumulate the statistics\n",
    "n_students = 0\n",
    "n_universities = 0\n",
    "\n",
    "# loop over universities, and accumulate values\n",
    "for school in fbs_teams_dict:\n",
    "    if fbs_teams_dict[school]['conference'] == 'Big 12':\n",
    "        n_students += fbs_teams_dict[school]['enrollment']\n",
    "        n_universities += 1\n",
    "\n",
    "# print the statistics\n",
    "print(f\"Number of Big 12 universities: {n_universities}\")\n",
    "print(f\"Total enrollment in Big 12: {n_students}\")\n",
    "print(f\"Average enrollment in Big 12: {n_students / n_universities}\")\n"
   ]
  },
  {
   "cell_type": "code",
   "execution_count": null,
   "id": "85e0efc0-2a78-413e-b54f-b3dcd8110031",
   "metadata": {
    "id": "85e0efc0-2a78-413e-b54f-b3dcd8110031"
   },
   "outputs": [],
   "source": []
  }
 ],
 "metadata": {
  "colab": {
   "provenance": []
  },
  "kernelspec": {
   "display_name": "Python 3 (ipykernel)",
   "language": "python",
   "name": "python3"
  },
  "language_info": {
   "codemirror_mode": {
    "name": "ipython",
    "version": 3
   },
   "file_extension": ".py",
   "mimetype": "text/x-python",
   "name": "python",
   "nbconvert_exporter": "python",
   "pygments_lexer": "ipython3",
   "version": "3.10.6"
  }
 },
 "nbformat": 4,
 "nbformat_minor": 5
}
