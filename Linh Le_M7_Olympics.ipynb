{
 "cells": [
  {
   "cell_type": "markdown",
   "metadata": {
    "id": "kejpKL23PZsi"
   },
   "source": [
    "# **Milestone** | Exploratory Analysis of Olympic Athletes\n",
    "\n",
    "\n",
    "<div style=\"text-align: center;\">\n",
    "<img src=\"https://upload.wikimedia.org/wikipedia/commons/thumb/5/5c/Olympic_rings_without_rims.svg/2560px-Olympic_rings_without_rims.svg.png\" alt=\"The Olympic Rings\" width=\"320\"/>\n",
    "</div>\n"
   ]
  },
  {
   "cell_type": "markdown",
   "metadata": {
    "id": "0wB3bGTjGyoF"
   },
   "source": [
    "\n",
    "# Introduction\n",
    "\n",
    "In this Milestone, you will analyze a dataset containing information on Olympic medalists from 1896 to 2016. Your goal is to apply practical data analysis skills to explore trends, clean inconsistencies, and generate insights that will support data-driven journalism about the athletes, countries, and events that have shaped Olympic history.\n",
    "\n",
    "\n",
    "### Dataset Description\n",
    "\n",
    "You will use the `olympics_dataset.csv` dataset in the `datasets` folder to complete your analysis. Every row represents one athlete's participation in a specific Olympic event. The dataset contains the following columns:\n",
    "\n",
    "* **ID**: A unique identifying number of each athlete\n",
    "* **Name**: The name of each athlete\n",
    "* **Sex**: M or F\n",
    "* **Age**: The age of an athlete, in years\n",
    "* **Height**: The height of an athlete, in centimeters\n",
    "* **Weight**: The weight of an athlete, in kilograms\n",
    "* **Team**: The name of the athlete’s team. Not always the name of a country.\n",
    "* **NOC**: National Olympic Committee’s 3 letter code\n",
    "* **Games**: Year and season\n",
    "* **Season**: Summer or Winter\n",
    "* **City**: Host city\n",
    "* **Sport**: The  or category of olympic event/activity\n",
    "* **Event**: specific event within a sport, e.g. Men’s 400 meters breaststroke.\n",
    "* **Medal**: Gold, Silver, Bronze\n",
    "* **Region**: Name of athlete’s country\n",
    "\n",
    "\n",
    "To start, import the pandas library, load the data into a DataFrame and preview the first 5 rows."
   ]
  },
  {
   "cell_type": "code",
   "execution_count": 2,
   "metadata": {
    "colab": {
     "base_uri": "https://localhost:8080/",
     "height": 452
    },
    "id": "QSYFCtrfSJbL",
    "outputId": "026fef5d-9060-444d-b631-11a1089d0a56"
   },
   "outputs": [
    {
     "data": {
      "text/html": [
       "<div>\n",
       "<style scoped>\n",
       "    .dataframe tbody tr th:only-of-type {\n",
       "        vertical-align: middle;\n",
       "    }\n",
       "\n",
       "    .dataframe tbody tr th {\n",
       "        vertical-align: top;\n",
       "    }\n",
       "\n",
       "    .dataframe thead th {\n",
       "        text-align: right;\n",
       "    }\n",
       "</style>\n",
       "<table border=\"1\" class=\"dataframe\">\n",
       "  <thead>\n",
       "    <tr style=\"text-align: right;\">\n",
       "      <th></th>\n",
       "      <th>ID</th>\n",
       "      <th>Name</th>\n",
       "      <th>Sex</th>\n",
       "      <th>Age</th>\n",
       "      <th>Height</th>\n",
       "      <th>Weight</th>\n",
       "      <th>Team</th>\n",
       "      <th>NOC</th>\n",
       "      <th>Games</th>\n",
       "      <th>Year</th>\n",
       "      <th>Season</th>\n",
       "      <th>City</th>\n",
       "      <th>Sport</th>\n",
       "      <th>Event</th>\n",
       "      <th>Medal</th>\n",
       "      <th>region</th>\n",
       "    </tr>\n",
       "  </thead>\n",
       "  <tbody>\n",
       "    <tr>\n",
       "      <th>0</th>\n",
       "      <td>4</td>\n",
       "      <td>Edgar Lindenau Aabye</td>\n",
       "      <td>M</td>\n",
       "      <td>34.0</td>\n",
       "      <td>NaN</td>\n",
       "      <td>NaN</td>\n",
       "      <td>Denmark/Sweden</td>\n",
       "      <td>DEN</td>\n",
       "      <td>1900 Summer</td>\n",
       "      <td>1900</td>\n",
       "      <td>Summer</td>\n",
       "      <td>Paris</td>\n",
       "      <td>Tug-Of-War</td>\n",
       "      <td>Tug-Of-War Men's Tug-Of-War</td>\n",
       "      <td>Gold</td>\n",
       "      <td>Denmark</td>\n",
       "    </tr>\n",
       "    <tr>\n",
       "      <th>1</th>\n",
       "      <td>15</td>\n",
       "      <td>Arvo Ossian Aaltonen</td>\n",
       "      <td>M</td>\n",
       "      <td>30.0</td>\n",
       "      <td>NaN</td>\n",
       "      <td>NaN</td>\n",
       "      <td>Finland</td>\n",
       "      <td>FIN</td>\n",
       "      <td>1920 Summer</td>\n",
       "      <td>1920</td>\n",
       "      <td>Summer</td>\n",
       "      <td>Antwerpen</td>\n",
       "      <td>Swimming</td>\n",
       "      <td>Swimming Men's 200 metres Breaststroke</td>\n",
       "      <td>Bronze</td>\n",
       "      <td>Finland</td>\n",
       "    </tr>\n",
       "    <tr>\n",
       "      <th>2</th>\n",
       "      <td>15</td>\n",
       "      <td>Arvo Ossian Aaltonen</td>\n",
       "      <td>M</td>\n",
       "      <td>30.0</td>\n",
       "      <td>NaN</td>\n",
       "      <td>NaN</td>\n",
       "      <td>Finland</td>\n",
       "      <td>FIN</td>\n",
       "      <td>1920 Summer</td>\n",
       "      <td>1920</td>\n",
       "      <td>Summer</td>\n",
       "      <td>Antwerpen</td>\n",
       "      <td>Swimming</td>\n",
       "      <td>Swimming Men's 400 metres Breaststroke</td>\n",
       "      <td>Bronze</td>\n",
       "      <td>Finland</td>\n",
       "    </tr>\n",
       "    <tr>\n",
       "      <th>3</th>\n",
       "      <td>16</td>\n",
       "      <td>Juhamatti Tapio Aaltonen</td>\n",
       "      <td>M</td>\n",
       "      <td>28.0</td>\n",
       "      <td>184.0</td>\n",
       "      <td>85.0</td>\n",
       "      <td>Finland</td>\n",
       "      <td>FIN</td>\n",
       "      <td>2014 Winter</td>\n",
       "      <td>2014</td>\n",
       "      <td>Winter</td>\n",
       "      <td>Sochi</td>\n",
       "      <td>Ice Hockey</td>\n",
       "      <td>Ice Hockey Men's Ice Hockey</td>\n",
       "      <td>Bronze</td>\n",
       "      <td>Finland</td>\n",
       "    </tr>\n",
       "    <tr>\n",
       "      <th>4</th>\n",
       "      <td>17</td>\n",
       "      <td>Paavo Johannes Aaltonen</td>\n",
       "      <td>M</td>\n",
       "      <td>28.0</td>\n",
       "      <td>175.0</td>\n",
       "      <td>64.0</td>\n",
       "      <td>Finland</td>\n",
       "      <td>FIN</td>\n",
       "      <td>1948 Summer</td>\n",
       "      <td>1948</td>\n",
       "      <td>Summer</td>\n",
       "      <td>London</td>\n",
       "      <td>Gymnastics</td>\n",
       "      <td>Gymnastics Men's Individual All-Around</td>\n",
       "      <td>Bronze</td>\n",
       "      <td>Finland</td>\n",
       "    </tr>\n",
       "  </tbody>\n",
       "</table>\n",
       "</div>"
      ],
      "text/plain": [
       "   ID                      Name Sex   Age  Height  Weight            Team  \\\n",
       "0   4      Edgar Lindenau Aabye   M  34.0     NaN     NaN  Denmark/Sweden   \n",
       "1  15      Arvo Ossian Aaltonen   M  30.0     NaN     NaN         Finland   \n",
       "2  15      Arvo Ossian Aaltonen   M  30.0     NaN     NaN         Finland   \n",
       "3  16  Juhamatti Tapio Aaltonen   M  28.0   184.0    85.0         Finland   \n",
       "4  17   Paavo Johannes Aaltonen   M  28.0   175.0    64.0         Finland   \n",
       "\n",
       "   NOC        Games  Year  Season       City       Sport  \\\n",
       "0  DEN  1900 Summer  1900  Summer      Paris  Tug-Of-War   \n",
       "1  FIN  1920 Summer  1920  Summer  Antwerpen    Swimming   \n",
       "2  FIN  1920 Summer  1920  Summer  Antwerpen    Swimming   \n",
       "3  FIN  2014 Winter  2014  Winter      Sochi  Ice Hockey   \n",
       "4  FIN  1948 Summer  1948  Summer     London  Gymnastics   \n",
       "\n",
       "                                    Event   Medal   region  \n",
       "0             Tug-Of-War Men's Tug-Of-War    Gold  Denmark  \n",
       "1  Swimming Men's 200 metres Breaststroke  Bronze  Finland  \n",
       "2  Swimming Men's 400 metres Breaststroke  Bronze  Finland  \n",
       "3             Ice Hockey Men's Ice Hockey  Bronze  Finland  \n",
       "4  Gymnastics Men's Individual All-Around  Bronze  Finland  "
      ]
     },
     "execution_count": 2,
     "metadata": {},
     "output_type": "execute_result"
    }
   ],
   "source": [
    "# import the pandas library\n",
    "import pandas as pd\n",
    "# load the data into a dataframe\n",
    "df = pd.read_csv('datasets/olympics.csv')\n",
    "# preview the dataframe\n",
    "df.head()"
   ]
  },
  {
   "cell_type": "markdown",
   "metadata": {
    "id": "Gm4vWqYdMH5s"
   },
   "source": [
    "## Task 1: Data Inspection\n",
    "Start by inspecting the dataset to understand its structure and the types of questions you can ask. You'll familiarize yourself with the data columns and initial statistics."
   ]
  },
  {
   "cell_type": "code",
   "execution_count": 3,
   "metadata": {
    "colab": {
     "base_uri": "https://localhost:8080/"
    },
    "id": "PPjVwwKKGp1h",
    "outputId": "5fc9862f-4f5a-4ccb-c9df-4490e14b918d"
   },
   "outputs": [
    {
     "data": {
      "text/plain": [
       "(39783, 16)"
      ]
     },
     "execution_count": 3,
     "metadata": {},
     "output_type": "execute_result"
    }
   ],
   "source": [
    "# Inspect the numbers of rows and columns\n",
    "df.shape"
   ]
  },
  {
   "cell_type": "code",
   "execution_count": 4,
   "metadata": {
    "colab": {
     "base_uri": "https://localhost:8080/"
    },
    "id": "3VoFS4qhGp1h",
    "outputId": "a0c4cc09-70b2-400f-9e91-6331aace62a1"
   },
   "outputs": [
    {
     "data": {
      "text/plain": [
       "Index(['ID', 'Name', 'Sex', 'Age', 'Height', 'Weight', 'Team', 'NOC', 'Games',\n",
       "       'Year', 'Season', 'City', 'Sport', 'Event', 'Medal', 'region'],\n",
       "      dtype='object')"
      ]
     },
     "execution_count": 4,
     "metadata": {},
     "output_type": "execute_result"
    }
   ],
   "source": [
    "# Print out all the column names\n",
    "df.columns"
   ]
  },
  {
   "cell_type": "code",
   "execution_count": 6,
   "metadata": {
    "colab": {
     "base_uri": "https://localhost:8080/"
    },
    "id": "9AhuNK0HGp1i",
    "outputId": "f8f72bdd-fc55-484f-8886-4dd060a8db8d"
   },
   "outputs": [
    {
     "name": "stdout",
     "output_type": "stream",
     "text": [
      "<class 'pandas.core.frame.DataFrame'>\n",
      "RangeIndex: 39783 entries, 0 to 39782\n",
      "Data columns (total 16 columns):\n",
      " #   Column  Non-Null Count  Dtype  \n",
      "---  ------  --------------  -----  \n",
      " 0   ID      39783 non-null  int64  \n",
      " 1   Name    39783 non-null  object \n",
      " 2   Sex     39783 non-null  object \n",
      " 3   Age     39051 non-null  float64\n",
      " 4   Height  31072 non-null  float64\n",
      " 5   Weight  30456 non-null  float64\n",
      " 6   Team    39783 non-null  object \n",
      " 7   NOC     39783 non-null  object \n",
      " 8   Games   39783 non-null  object \n",
      " 9   Year    39783 non-null  int64  \n",
      " 10  Season  39783 non-null  object \n",
      " 11  City    39783 non-null  object \n",
      " 12  Sport   39783 non-null  object \n",
      " 13  Event   39783 non-null  object \n",
      " 14  Medal   39783 non-null  object \n",
      " 15  region  39774 non-null  object \n",
      "dtypes: float64(3), int64(2), object(11)\n",
      "memory usage: 4.9+ MB\n"
     ]
    },
    {
     "data": {
      "text/plain": [
       "ID           0\n",
       "Name         0\n",
       "Sex          0\n",
       "Age        732\n",
       "Height    8711\n",
       "Weight    9327\n",
       "Team         0\n",
       "NOC          0\n",
       "Games        0\n",
       "Year         0\n",
       "Season       0\n",
       "City         0\n",
       "Sport        0\n",
       "Event        0\n",
       "Medal        0\n",
       "region       9\n",
       "dtype: int64"
      ]
     },
     "execution_count": 6,
     "metadata": {},
     "output_type": "execute_result"
    }
   ],
   "source": [
    "# Inspect column data types, null values, and other info\n",
    "df.info()\n",
    "df.isnull().sum()"
   ]
  },
  {
   "cell_type": "markdown",
   "metadata": {
    "id": "5fnOmdX2T4zM"
   },
   "source": [
    "As you're reviewing the .info() output from the dataset, you should notice there are missing values some of the columns! Ask ChatGPT to recommend approaches for dealing with missing data in your analysis.\n",
    "\n",
    "<div style=\"border: 3px solid #30EE99; background-color: #f0fff4; padding: 15px; border-radius: 8px; color: #222; display: flex; align-items: center;\">\n",
    "  <span style=\"font-size: 10pt;\">\n",
    "    <strong>Try This AI Prompt:</strong> I’m working with a dataset of Olympic medalists, and I’ve noticed some missing values in columns like Age, Height, Weight, and Region. I’m planning to ignore these missing values. Is this a reasonable approach for my analysis, or are there any important considerations I should be aware of before doing so?\n",
    "\n",
    "\n",
    "  </span>\n",
    "</div>"
   ]
  },
  {
   "cell_type": "code",
   "execution_count": 7,
   "metadata": {
    "colab": {
     "base_uri": "https://localhost:8080/"
    },
    "id": "jS02gtfNGp1j",
    "outputId": "288ba440-fa0c-40a1-810d-ab0035cd84d8"
   },
   "outputs": [
    {
     "data": {
      "text/plain": [
       "array(['Gold', 'Bronze', 'Silver'], dtype=object)"
      ]
     },
     "execution_count": 7,
     "metadata": {},
     "output_type": "execute_result"
    }
   ],
   "source": [
    "# Use unique() to examine the types of medals in the dataset.\n",
    "df['Medal'].unique()"
   ]
  },
  {
   "cell_type": "markdown",
   "metadata": {
    "id": "SQ8I76OxGp1j"
   },
   "source": [
    "## Task 2: Data Cleaning\n",
    "Now that we have a sense of the data, let's clean it to make sure it's ready for analysis.\n",
    "\n",
    "<div style=\"border: 3px solid #b67ae5; background-color: #f9f1ff; padding: 15px; border-radius: 8px; color: #222; display: flex; align-items: center;\">\n",
    "<span style=\"font-size: 10pt;\">\n",
    "<strong>Hint: </strong>When renaming/dropping columns, make sure to assign the result back to the dataframe to ensure that the new column names <em> replace </em> the old ones in your dataset.\n",
    "</span>\n",
    "</div>"
   ]
  },
  {
   "cell_type": "code",
   "execution_count": 10,
   "metadata": {
    "colab": {
     "base_uri": "https://localhost:8080/",
     "height": 452
    },
    "id": "LRX6j6NRGp1k",
    "outputId": "f88bd07b-87d5-4d22-e980-31e8d2f3f74a"
   },
   "outputs": [
    {
     "data": {
      "text/html": [
       "<div>\n",
       "<style scoped>\n",
       "    .dataframe tbody tr th:only-of-type {\n",
       "        vertical-align: middle;\n",
       "    }\n",
       "\n",
       "    .dataframe tbody tr th {\n",
       "        vertical-align: top;\n",
       "    }\n",
       "\n",
       "    .dataframe thead th {\n",
       "        text-align: right;\n",
       "    }\n",
       "</style>\n",
       "<table border=\"1\" class=\"dataframe\">\n",
       "  <thead>\n",
       "    <tr style=\"text-align: right;\">\n",
       "      <th></th>\n",
       "      <th>ID</th>\n",
       "      <th>Name</th>\n",
       "      <th>Sex</th>\n",
       "      <th>Age</th>\n",
       "      <th>Height</th>\n",
       "      <th>Weight</th>\n",
       "      <th>Team</th>\n",
       "      <th>CountryCode</th>\n",
       "      <th>Games</th>\n",
       "      <th>Year</th>\n",
       "      <th>Season</th>\n",
       "      <th>City</th>\n",
       "      <th>Sport</th>\n",
       "      <th>Event</th>\n",
       "      <th>Medal</th>\n",
       "      <th>Country</th>\n",
       "    </tr>\n",
       "  </thead>\n",
       "  <tbody>\n",
       "    <tr>\n",
       "      <th>0</th>\n",
       "      <td>4</td>\n",
       "      <td>Edgar Lindenau Aabye</td>\n",
       "      <td>M</td>\n",
       "      <td>34.0</td>\n",
       "      <td>NaN</td>\n",
       "      <td>NaN</td>\n",
       "      <td>Denmark/Sweden</td>\n",
       "      <td>DEN</td>\n",
       "      <td>1900 Summer</td>\n",
       "      <td>1900</td>\n",
       "      <td>Summer</td>\n",
       "      <td>Paris</td>\n",
       "      <td>Tug-Of-War</td>\n",
       "      <td>Tug-Of-War Men's Tug-Of-War</td>\n",
       "      <td>Gold</td>\n",
       "      <td>Denmark</td>\n",
       "    </tr>\n",
       "    <tr>\n",
       "      <th>1</th>\n",
       "      <td>15</td>\n",
       "      <td>Arvo Ossian Aaltonen</td>\n",
       "      <td>M</td>\n",
       "      <td>30.0</td>\n",
       "      <td>NaN</td>\n",
       "      <td>NaN</td>\n",
       "      <td>Finland</td>\n",
       "      <td>FIN</td>\n",
       "      <td>1920 Summer</td>\n",
       "      <td>1920</td>\n",
       "      <td>Summer</td>\n",
       "      <td>Antwerpen</td>\n",
       "      <td>Swimming</td>\n",
       "      <td>Swimming Men's 200 metres Breaststroke</td>\n",
       "      <td>Bronze</td>\n",
       "      <td>Finland</td>\n",
       "    </tr>\n",
       "    <tr>\n",
       "      <th>2</th>\n",
       "      <td>15</td>\n",
       "      <td>Arvo Ossian Aaltonen</td>\n",
       "      <td>M</td>\n",
       "      <td>30.0</td>\n",
       "      <td>NaN</td>\n",
       "      <td>NaN</td>\n",
       "      <td>Finland</td>\n",
       "      <td>FIN</td>\n",
       "      <td>1920 Summer</td>\n",
       "      <td>1920</td>\n",
       "      <td>Summer</td>\n",
       "      <td>Antwerpen</td>\n",
       "      <td>Swimming</td>\n",
       "      <td>Swimming Men's 400 metres Breaststroke</td>\n",
       "      <td>Bronze</td>\n",
       "      <td>Finland</td>\n",
       "    </tr>\n",
       "    <tr>\n",
       "      <th>3</th>\n",
       "      <td>16</td>\n",
       "      <td>Juhamatti Tapio Aaltonen</td>\n",
       "      <td>M</td>\n",
       "      <td>28.0</td>\n",
       "      <td>184.0</td>\n",
       "      <td>85.0</td>\n",
       "      <td>Finland</td>\n",
       "      <td>FIN</td>\n",
       "      <td>2014 Winter</td>\n",
       "      <td>2014</td>\n",
       "      <td>Winter</td>\n",
       "      <td>Sochi</td>\n",
       "      <td>Ice Hockey</td>\n",
       "      <td>Ice Hockey Men's Ice Hockey</td>\n",
       "      <td>Bronze</td>\n",
       "      <td>Finland</td>\n",
       "    </tr>\n",
       "    <tr>\n",
       "      <th>4</th>\n",
       "      <td>17</td>\n",
       "      <td>Paavo Johannes Aaltonen</td>\n",
       "      <td>M</td>\n",
       "      <td>28.0</td>\n",
       "      <td>175.0</td>\n",
       "      <td>64.0</td>\n",
       "      <td>Finland</td>\n",
       "      <td>FIN</td>\n",
       "      <td>1948 Summer</td>\n",
       "      <td>1948</td>\n",
       "      <td>Summer</td>\n",
       "      <td>London</td>\n",
       "      <td>Gymnastics</td>\n",
       "      <td>Gymnastics Men's Individual All-Around</td>\n",
       "      <td>Bronze</td>\n",
       "      <td>Finland</td>\n",
       "    </tr>\n",
       "  </tbody>\n",
       "</table>\n",
       "</div>"
      ],
      "text/plain": [
       "   ID                      Name Sex   Age  Height  Weight            Team  \\\n",
       "0   4      Edgar Lindenau Aabye   M  34.0     NaN     NaN  Denmark/Sweden   \n",
       "1  15      Arvo Ossian Aaltonen   M  30.0     NaN     NaN         Finland   \n",
       "2  15      Arvo Ossian Aaltonen   M  30.0     NaN     NaN         Finland   \n",
       "3  16  Juhamatti Tapio Aaltonen   M  28.0   184.0    85.0         Finland   \n",
       "4  17   Paavo Johannes Aaltonen   M  28.0   175.0    64.0         Finland   \n",
       "\n",
       "  CountryCode        Games  Year  Season       City       Sport  \\\n",
       "0         DEN  1900 Summer  1900  Summer      Paris  Tug-Of-War   \n",
       "1         FIN  1920 Summer  1920  Summer  Antwerpen    Swimming   \n",
       "2         FIN  1920 Summer  1920  Summer  Antwerpen    Swimming   \n",
       "3         FIN  2014 Winter  2014  Winter      Sochi  Ice Hockey   \n",
       "4         FIN  1948 Summer  1948  Summer     London  Gymnastics   \n",
       "\n",
       "                                    Event   Medal  Country  \n",
       "0             Tug-Of-War Men's Tug-Of-War    Gold  Denmark  \n",
       "1  Swimming Men's 200 metres Breaststroke  Bronze  Finland  \n",
       "2  Swimming Men's 400 metres Breaststroke  Bronze  Finland  \n",
       "3             Ice Hockey Men's Ice Hockey  Bronze  Finland  \n",
       "4  Gymnastics Men's Individual All-Around  Bronze  Finland  "
      ]
     },
     "execution_count": 10,
     "metadata": {},
     "output_type": "execute_result"
    }
   ],
   "source": [
    "# Rename 'NOC' column to 'CountryCode'\n",
    "# Rename 'region' column to 'Country'\n",
    "df.rename(columns={'NOC': 'CountryCode', 'region': 'Country'}, inplace=True)\n",
    "# preivew the dataframe again\n",
    "df.head()"
   ]
  },
  {
   "cell_type": "code",
   "execution_count": 11,
   "metadata": {
    "colab": {
     "base_uri": "https://localhost:8080/",
     "height": 452
    },
    "id": "BCdBy9DtGp1k",
    "outputId": "68218fba-ac33-414b-967c-ef01de741c15"
   },
   "outputs": [
    {
     "data": {
      "text/html": [
       "<div>\n",
       "<style scoped>\n",
       "    .dataframe tbody tr th:only-of-type {\n",
       "        vertical-align: middle;\n",
       "    }\n",
       "\n",
       "    .dataframe tbody tr th {\n",
       "        vertical-align: top;\n",
       "    }\n",
       "\n",
       "    .dataframe thead th {\n",
       "        text-align: right;\n",
       "    }\n",
       "</style>\n",
       "<table border=\"1\" class=\"dataframe\">\n",
       "  <thead>\n",
       "    <tr style=\"text-align: right;\">\n",
       "      <th></th>\n",
       "      <th>ID</th>\n",
       "      <th>Name</th>\n",
       "      <th>Sex</th>\n",
       "      <th>Age</th>\n",
       "      <th>Height</th>\n",
       "      <th>Weight</th>\n",
       "      <th>CountryCode</th>\n",
       "      <th>Games</th>\n",
       "      <th>Year</th>\n",
       "      <th>Season</th>\n",
       "      <th>City</th>\n",
       "      <th>Sport</th>\n",
       "      <th>Event</th>\n",
       "      <th>Medal</th>\n",
       "      <th>Country</th>\n",
       "    </tr>\n",
       "  </thead>\n",
       "  <tbody>\n",
       "    <tr>\n",
       "      <th>0</th>\n",
       "      <td>4</td>\n",
       "      <td>Edgar Lindenau Aabye</td>\n",
       "      <td>M</td>\n",
       "      <td>34.0</td>\n",
       "      <td>NaN</td>\n",
       "      <td>NaN</td>\n",
       "      <td>DEN</td>\n",
       "      <td>1900 Summer</td>\n",
       "      <td>1900</td>\n",
       "      <td>Summer</td>\n",
       "      <td>Paris</td>\n",
       "      <td>Tug-Of-War</td>\n",
       "      <td>Tug-Of-War Men's Tug-Of-War</td>\n",
       "      <td>Gold</td>\n",
       "      <td>Denmark</td>\n",
       "    </tr>\n",
       "    <tr>\n",
       "      <th>1</th>\n",
       "      <td>15</td>\n",
       "      <td>Arvo Ossian Aaltonen</td>\n",
       "      <td>M</td>\n",
       "      <td>30.0</td>\n",
       "      <td>NaN</td>\n",
       "      <td>NaN</td>\n",
       "      <td>FIN</td>\n",
       "      <td>1920 Summer</td>\n",
       "      <td>1920</td>\n",
       "      <td>Summer</td>\n",
       "      <td>Antwerpen</td>\n",
       "      <td>Swimming</td>\n",
       "      <td>Swimming Men's 200 metres Breaststroke</td>\n",
       "      <td>Bronze</td>\n",
       "      <td>Finland</td>\n",
       "    </tr>\n",
       "    <tr>\n",
       "      <th>2</th>\n",
       "      <td>15</td>\n",
       "      <td>Arvo Ossian Aaltonen</td>\n",
       "      <td>M</td>\n",
       "      <td>30.0</td>\n",
       "      <td>NaN</td>\n",
       "      <td>NaN</td>\n",
       "      <td>FIN</td>\n",
       "      <td>1920 Summer</td>\n",
       "      <td>1920</td>\n",
       "      <td>Summer</td>\n",
       "      <td>Antwerpen</td>\n",
       "      <td>Swimming</td>\n",
       "      <td>Swimming Men's 400 metres Breaststroke</td>\n",
       "      <td>Bronze</td>\n",
       "      <td>Finland</td>\n",
       "    </tr>\n",
       "    <tr>\n",
       "      <th>3</th>\n",
       "      <td>16</td>\n",
       "      <td>Juhamatti Tapio Aaltonen</td>\n",
       "      <td>M</td>\n",
       "      <td>28.0</td>\n",
       "      <td>184.0</td>\n",
       "      <td>85.0</td>\n",
       "      <td>FIN</td>\n",
       "      <td>2014 Winter</td>\n",
       "      <td>2014</td>\n",
       "      <td>Winter</td>\n",
       "      <td>Sochi</td>\n",
       "      <td>Ice Hockey</td>\n",
       "      <td>Ice Hockey Men's Ice Hockey</td>\n",
       "      <td>Bronze</td>\n",
       "      <td>Finland</td>\n",
       "    </tr>\n",
       "    <tr>\n",
       "      <th>4</th>\n",
       "      <td>17</td>\n",
       "      <td>Paavo Johannes Aaltonen</td>\n",
       "      <td>M</td>\n",
       "      <td>28.0</td>\n",
       "      <td>175.0</td>\n",
       "      <td>64.0</td>\n",
       "      <td>FIN</td>\n",
       "      <td>1948 Summer</td>\n",
       "      <td>1948</td>\n",
       "      <td>Summer</td>\n",
       "      <td>London</td>\n",
       "      <td>Gymnastics</td>\n",
       "      <td>Gymnastics Men's Individual All-Around</td>\n",
       "      <td>Bronze</td>\n",
       "      <td>Finland</td>\n",
       "    </tr>\n",
       "  </tbody>\n",
       "</table>\n",
       "</div>"
      ],
      "text/plain": [
       "   ID                      Name Sex   Age  Height  Weight CountryCode  \\\n",
       "0   4      Edgar Lindenau Aabye   M  34.0     NaN     NaN         DEN   \n",
       "1  15      Arvo Ossian Aaltonen   M  30.0     NaN     NaN         FIN   \n",
       "2  15      Arvo Ossian Aaltonen   M  30.0     NaN     NaN         FIN   \n",
       "3  16  Juhamatti Tapio Aaltonen   M  28.0   184.0    85.0         FIN   \n",
       "4  17   Paavo Johannes Aaltonen   M  28.0   175.0    64.0         FIN   \n",
       "\n",
       "         Games  Year  Season       City       Sport  \\\n",
       "0  1900 Summer  1900  Summer      Paris  Tug-Of-War   \n",
       "1  1920 Summer  1920  Summer  Antwerpen    Swimming   \n",
       "2  1920 Summer  1920  Summer  Antwerpen    Swimming   \n",
       "3  2014 Winter  2014  Winter      Sochi  Ice Hockey   \n",
       "4  1948 Summer  1948  Summer     London  Gymnastics   \n",
       "\n",
       "                                    Event   Medal  Country  \n",
       "0             Tug-Of-War Men's Tug-Of-War    Gold  Denmark  \n",
       "1  Swimming Men's 200 metres Breaststroke  Bronze  Finland  \n",
       "2  Swimming Men's 400 metres Breaststroke  Bronze  Finland  \n",
       "3             Ice Hockey Men's Ice Hockey  Bronze  Finland  \n",
       "4  Gymnastics Men's Individual All-Around  Bronze  Finland  "
      ]
     },
     "execution_count": 11,
     "metadata": {},
     "output_type": "execute_result"
    }
   ],
   "source": [
    "# Remove the 'Team' column\n",
    "df.drop(columns='Team', inplace=True)\n",
    "# preivew the dataframe again\n",
    "df.head()"
   ]
  },
  {
   "cell_type": "markdown",
   "metadata": {
    "id": "5Zb5hLm2Gp1k"
   },
   "source": [
    "## Task 3: Data Analysis\n",
    "\n",
    "It's time to analyze the data to uncover factual information about athletes, medals, and events! You'll explore:\n",
    "- Youngest and oldest medalists\n",
    "- Medal count\n",
    "- Number of unique events\n",
    "- Average age of medalists\n",
    "- Top 10 winningest countries by total medal count\n",
    "\n"
   ]
  },
  {
   "cell_type": "markdown",
   "metadata": {
    "id": "-rxQShj9dJCJ"
   },
   "source": [
    "**1.** What is the **youngest** age of an Olympic medalist?"
   ]
  },
  {
   "cell_type": "code",
   "execution_count": 12,
   "metadata": {
    "colab": {
     "base_uri": "https://localhost:8080/"
    },
    "id": "EjeEAadQGp1l",
    "outputId": "f2bf9851-376b-417d-cb72-1e81fd35fb93"
   },
   "outputs": [
    {
     "data": {
      "text/plain": [
       "10.0"
      ]
     },
     "execution_count": 12,
     "metadata": {},
     "output_type": "execute_result"
    }
   ],
   "source": [
    "# youngest age\n",
    "df['Age'].min()"
   ]
  },
  {
   "cell_type": "markdown",
   "metadata": {
    "id": "K9d1qXAudWGL"
   },
   "source": [
    "**2.** What is the **oldest** age of an Olympic medalist?"
   ]
  },
  {
   "cell_type": "code",
   "execution_count": 13,
   "metadata": {
    "colab": {
     "base_uri": "https://localhost:8080/"
    },
    "id": "BFafWEgJGp1l",
    "outputId": "ac106739-52d9-401f-be73-6ff673657e07"
   },
   "outputs": [
    {
     "data": {
      "text/plain": [
       "73.0"
      ]
     },
     "execution_count": 13,
     "metadata": {},
     "output_type": "execute_result"
    }
   ],
   "source": [
    "# oldest age\n",
    "df['Age'].max()"
   ]
  },
  {
   "cell_type": "markdown",
   "metadata": {
    "id": "NxNu6i4Hcf-z"
   },
   "source": [
    "**3.** Summarize the number of medals awarded by type. How many of each medal were awarded?\n",
    "\n",
    "<div style=\"border: 3px solid #b67ae5; background-color: #f9f1ff; padding: 15px; border-radius: 8px; color: #222; display: flex; align-items: center;\">\n",
    "<span style=\"font-size: 10pt;\">\n",
    "<strong>Hint: </strong>Think about which column contains the medal types, and how you could <em>count</em> the number of times each <em>value</em> appears.\n",
    "</span>\n",
    "</div>"
   ]
  },
  {
   "cell_type": "code",
   "execution_count": 14,
   "metadata": {
    "colab": {
     "base_uri": "https://localhost:8080/",
     "height": 143
    },
    "id": "X0QbfippGp1l",
    "outputId": "da3f4c2f-d600-46d2-8673-3873b81e02ac"
   },
   "outputs": [
    {
     "data": {
      "text/plain": [
       "Gold      13372\n",
       "Bronze    13295\n",
       "Silver    13116\n",
       "Name: Medal, dtype: int64"
      ]
     },
     "execution_count": 14,
     "metadata": {},
     "output_type": "execute_result"
    }
   ],
   "source": [
    "# number of medals awarded by type\n",
    "df['Medal'].value_counts()"
   ]
  },
  {
   "cell_type": "markdown",
   "metadata": {
    "id": "Lyl9GNXkd3y1"
   },
   "source": [
    "**4.** How many (unique) events are there?"
   ]
  },
  {
   "cell_type": "code",
   "execution_count": 15,
   "metadata": {
    "colab": {
     "base_uri": "https://localhost:8080/"
    },
    "id": "aLKoJmb7Gp1m",
    "outputId": "8ad2094d-0ae2-48b1-b49a-daff351be154"
   },
   "outputs": [
    {
     "data": {
      "text/plain": [
       "756"
      ]
     },
     "execution_count": 15,
     "metadata": {},
     "output_type": "execute_result"
    }
   ],
   "source": [
    "# Number of unique events\n",
    "df['Event'].nunique()\n"
   ]
  },
  {
   "cell_type": "markdown",
   "metadata": {
    "id": "7uvyEz37d_Kh"
   },
   "source": [
    "**5.** How many (unique) sports are there?"
   ]
  },
  {
   "cell_type": "code",
   "execution_count": 16,
   "metadata": {
    "colab": {
     "base_uri": "https://localhost:8080/"
    },
    "id": "O0BoABdUGp1m",
    "outputId": "21f3551a-878a-4db4-8453-7dd357a1bed2"
   },
   "outputs": [
    {
     "data": {
      "text/plain": [
       "66"
      ]
     },
     "execution_count": 16,
     "metadata": {},
     "output_type": "execute_result"
    }
   ],
   "source": [
    "# Number of unique sports\n",
    "df['Sport'].nunique()"
   ]
  },
  {
   "cell_type": "markdown",
   "metadata": {
    "id": "weYs_SpkeGHZ"
   },
   "source": [
    "**6.** What is the average age of an Olympic medalist? Round the age to the nearest whole number."
   ]
  },
  {
   "cell_type": "code",
   "execution_count": 17,
   "metadata": {
    "colab": {
     "base_uri": "https://localhost:8080/"
    },
    "id": "3bCZjivrGp1m",
    "outputId": "4cf50cce-4a04-48c4-8dca-a92b147b18da"
   },
   "outputs": [
    {
     "data": {
      "text/plain": [
       "26"
      ]
     },
     "execution_count": 17,
     "metadata": {},
     "output_type": "execute_result"
    }
   ],
   "source": [
    "# average age of an Olympic medalist?\n",
    "round(df['Age'].mean())\n"
   ]
  },
  {
   "cell_type": "markdown",
   "metadata": {
    "id": "6niw7ut3cyrn"
   },
   "source": [
    "**7A.** Among the 10 oldest medalists, what are the most common sports?\n",
    "\n",
    "\n",
    "<div style=\"border: 3px solid #b67ae5; background-color: #f9f1ff; padding: 15px; border-radius: 8px; color: #222; display: flex; align-items: center;\">\n",
    "<span style=\"font-size: 10pt;\">\n",
    "<strong>Hint: </strong>Start by sorting the data so the oldest athletes appear first. Then look only at a small slice of the data — you don’t need to analyze the full dataset to answer the question.\n",
    "</span>\n",
    "</div>"
   ]
  },
  {
   "cell_type": "code",
   "execution_count": 18,
   "metadata": {
    "colab": {
     "base_uri": "https://localhost:8080/",
     "height": 991
    },
    "id": "zNpTSGtpGp1m",
    "outputId": "42e548a1-d1c6-4e49-bc28-9e8419388fff"
   },
   "outputs": [
    {
     "data": {
      "text/plain": [
       "6072     Art Competitions\n",
       "8279     Art Competitions\n",
       "33952            Shooting\n",
       "21901             Sailing\n",
       "21902             Sailing\n",
       "12614    Art Competitions\n",
       "34707    Art Competitions\n",
       "21198    Art Competitions\n",
       "8340              Archery\n",
       "25165             Sailing\n",
       "Name: Sport, dtype: object"
      ]
     },
     "execution_count": 18,
     "metadata": {},
     "output_type": "execute_result"
    }
   ],
   "source": [
    "# most common sports among the 10 oldest medalists\n",
    "oldest_10 = df.sort_values(by='Age', ascending=False).head(10)\n",
    "oldest_10['Sport']"
   ]
  },
  {
   "cell_type": "markdown",
   "metadata": {
    "id": "C3scDk3reozH"
   },
   "source": [
    "**7B.** To get a clearer view of the sports these athletes participated in, focus on the `Sport` column. After identifying the top 10 oldest athletes, count how many times each sport appears among them. This is a more precise way to identify the most common sports among oldest medalists!\n"
   ]
  },
  {
   "cell_type": "code",
   "execution_count": 19,
   "metadata": {
    "colab": {
     "base_uri": "https://localhost:8080/",
     "height": 241
    },
    "id": "9slDpzvUGp1m",
    "outputId": "ee999f98-a0dc-4380-f79c-decf068b17a5"
   },
   "outputs": [
    {
     "data": {
      "text/plain": [
       "Art Competitions    5\n",
       "Sailing             3\n",
       "Shooting            1\n",
       "Archery             1\n",
       "Name: Sport, dtype: int64"
      ]
     },
     "execution_count": 19,
     "metadata": {},
     "output_type": "execute_result"
    }
   ],
   "source": [
    "# most common sports among the 10 oldest medalists with .value_counts\n",
    "oldest_10['Sport'].value_counts()"
   ]
  },
  {
   "cell_type": "markdown",
   "metadata": {
    "id": "nuOHn0sZe_Vp"
   },
   "source": [
    "**8.** What are the 10 winningest countries in total medal count?\n",
    "\n",
    "<div style=\"border: 3px solid #b67ae5; background-color: #f9f1ff; padding: 15px; border-radius: 8px; color: #222; display: flex; align-items: center;\">\n",
    "<span style=\"font-size: 10pt;\">\n",
    "<strong>Hint: </strong>You'll need to count the number of times each country appears in the dataset but only display the top 10!\n",
    "</span>\n",
    "</div>"
   ]
  },
  {
   "cell_type": "code",
   "execution_count": 22,
   "metadata": {
    "colab": {
     "base_uri": "https://localhost:8080/",
     "height": 429
    },
    "id": "EDznIem9Gp1n",
    "outputId": "c19f918c-a217-40fd-894e-6392326b1ad9"
   },
   "outputs": [
    {
     "data": {
      "text/plain": [
       "USA          5637\n",
       "Russia       3947\n",
       "Germany      3756\n",
       "UK           2068\n",
       "France       1777\n",
       "Italy        1637\n",
       "Sweden       1536\n",
       "Canada       1352\n",
       "Australia    1349\n",
       "Hungary      1135\n",
       "Name: Country, dtype: int64"
      ]
     },
     "execution_count": 22,
     "metadata": {},
     "output_type": "execute_result"
    }
   ],
   "source": [
    "# What are the 10 winningest countries in total medal count?\n",
    "df['Country'].value_counts().head(10)"
   ]
  },
  {
   "cell_type": "markdown",
   "metadata": {
    "id": "NY6-dFv2fgGj"
   },
   "source": [
    "**9.** How many medals have been awarded in the sport of trampolining?"
   ]
  },
  {
   "cell_type": "code",
   "execution_count": 23,
   "metadata": {
    "colab": {
     "base_uri": "https://localhost:8080/"
    },
    "id": "EHZWAnPTGp1n",
    "outputId": "de300e06-f93a-469f-afd4-875ce1cb0c5d"
   },
   "outputs": [
    {
     "data": {
      "text/plain": [
       "30"
      ]
     },
     "execution_count": 23,
     "metadata": {},
     "output_type": "execute_result"
    }
   ],
   "source": [
    "# Trampolining medals\n",
    "df[(df['Sport'] == 'Trampolining') & (df['Medal'].notnull())].shape[0]"
   ]
  },
  {
   "cell_type": "markdown",
   "metadata": {
    "id": "L_SZdZ8afqff"
   },
   "source": [
    "## Task 4: Find the Story\n",
    "Now that you’ve explored the dataset and uncovered some key facts about athletes, events, and countries, it’s time to think like a data journalist.\n",
    "\n",
    "Based on your findings:\n",
    "\n",
    "- What trend, pattern, or outlier stood out to you?\n",
    "\n",
    "- What topic would you pitch as the focus of a data-driven reporting article?\n",
    "\n",
    "- Why do you think it’s interesting or important to explore further?\n",
    "\n",
    "Write a short pitch (3–5 sentences) describing:\n",
    "\n",
    "1. The angle you would pursue\n",
    "\n",
    "2. What specific data points support it\n",
    "\n",
    "3. What additional information you might want to gather\n",
    "\n",
    "<div style=\"border: 3px solid #30EE99; background-color: #f0fff4; padding: 15px; border-radius: 8px; color: #222; display: flex; align-items: center;\">\n",
    "  <span style=\"font-size: 10pt;\">\n",
    "    <strong>Try This AI Prompt:</strong> I’ve explored a dataset about Olympic medalists and found [insert key findings]. I want to pitch a story based on these findings. Can you suggest a few ways to frame the story to make it interesting for a general audience?\n",
    "\n",
    "\n",
    "  </span>\n",
    "</div>\n"
   ]
  },
  {
   "cell_type": "markdown",
   "metadata": {
    "id": "TURu9DtrgEWq"
   },
   "source": [
    "Double-click (or enter) to edit\n",
    "Despite popular beliefs that Olympic athletes peak young, some of the oldest medalists in history competed in Art Competitions and Sailing, with one medalist as old as 73. I would pursue a story exploring how certain Olympic sports—especially artistic or strategic ones—enable longevity in competition. Data shows that 5 of the 10 oldest medalists competed in Art Competitions, and 3 in Sailing, challenging the stereotype of youth dominated Olympic success. This story could be enriched with interviews or historical context about discontinued Olympic events like Art. Additional data on athlete training routines and changes in event offerings over time would provide valuable perspective.\n"
   ]
  },
  {
   "cell_type": "markdown",
   "metadata": {
    "id": "ZCYOlu_rGp1n"
   },
   "source": [
    "## LevelUp\n",
    "Explore additional questions to dive deeper into the dataset and see how the insights you uncover might influence your pitch or reporting. These extra credit tasks offer a chance to refine your understanding and discover new angles for potential stories 😎\n",
    "\n"
   ]
  },
  {
   "cell_type": "markdown",
   "metadata": {
    "id": "Ln2vm2S7gsWk"
   },
   "source": [
    "**1.** Use a combination of filters to find out how many gold medals were awarded to the United States?"
   ]
  },
  {
   "cell_type": "code",
   "execution_count": 24,
   "metadata": {
    "colab": {
     "base_uri": "https://localhost:8080/"
    },
    "id": "lMXzRdowGp1n",
    "outputId": "7b5b0220-6182-4dee-a787-e86061739e12"
   },
   "outputs": [
    {
     "data": {
      "text/plain": [
       "2638"
      ]
     },
     "execution_count": 24,
     "metadata": {},
     "output_type": "execute_result"
    }
   ],
   "source": [
    "# gold medals awarded to the United States\n",
    "df[(df['Medal'] == 'Gold') & (df['Country'] == 'USA')].shape[0]"
   ]
  },
  {
   "cell_type": "markdown",
   "metadata": {
    "id": "4TfyxgNAg3ZT"
   },
   "source": [
    "**2.** List the Olympic Games in dataset, starting with the most recent"
   ]
  },
  {
   "cell_type": "code",
   "execution_count": 27,
   "metadata": {
    "colab": {
     "base_uri": "https://localhost:8080/"
    },
    "id": "qw0xCEBcGp1n",
    "outputId": "f6fc962e-9f59-4462-ab49-bff260aa5123"
   },
   "outputs": [
    {
     "data": {
      "text/plain": [
       "['2016 Summer',\n",
       " '2014 Winter',\n",
       " '2012 Summer',\n",
       " '2010 Winter',\n",
       " '2008 Summer',\n",
       " '2006 Winter',\n",
       " '2004 Summer',\n",
       " '2002 Winter',\n",
       " '2000 Summer',\n",
       " '1998 Winter',\n",
       " '1996 Summer',\n",
       " '1994 Winter',\n",
       " '1992 Winter',\n",
       " '1992 Summer',\n",
       " '1988 Winter',\n",
       " '1988 Summer',\n",
       " '1984 Winter',\n",
       " '1984 Summer',\n",
       " '1980 Winter',\n",
       " '1980 Summer',\n",
       " '1976 Winter',\n",
       " '1976 Summer',\n",
       " '1972 Winter',\n",
       " '1972 Summer',\n",
       " '1968 Winter',\n",
       " '1968 Summer',\n",
       " '1964 Winter',\n",
       " '1964 Summer',\n",
       " '1960 Winter',\n",
       " '1960 Summer',\n",
       " '1956 Winter',\n",
       " '1956 Summer',\n",
       " '1952 Winter',\n",
       " '1952 Summer',\n",
       " '1948 Winter',\n",
       " '1948 Summer',\n",
       " '1936 Winter',\n",
       " '1936 Summer',\n",
       " '1932 Winter',\n",
       " '1932 Summer',\n",
       " '1928 Winter',\n",
       " '1928 Summer',\n",
       " '1924 Winter',\n",
       " '1924 Summer',\n",
       " '1920 Summer',\n",
       " '1912 Summer',\n",
       " '1908 Summer',\n",
       " '1906 Summer',\n",
       " '1904 Summer',\n",
       " '1900 Summer',\n",
       " '1896 Summer']"
      ]
     },
     "execution_count": 27,
     "metadata": {},
     "output_type": "execute_result"
    }
   ],
   "source": [
    "# Olympic Games in the dataset\n",
    "sorted(df['Games'].unique(), reverse=True)"
   ]
  },
  {
   "cell_type": "markdown",
   "metadata": {
    "id": "cP9QYxkjg_eU"
   },
   "source": [
    "**3.** What is the average medalist height in the most recent Winter Olympics. Format your answer into Feet' Inches''.\n",
    "\n",
    "<div style=\"border: 3px solid #30EE99; background-color: #f0fff4; padding: 15px; border-radius: 8px; color: #222; display: flex; align-items: center;\">\n",
    "  <span style=\"font-size: 10pt;\">\n",
    "    <strong>Try This AI Prompt:</strong> \"How can I convert 175 inches into feet and inches in Python? Can you show me the code for that?\"\n",
    "  </span>\n",
    "</div>"
   ]
  },
  {
   "cell_type": "code",
   "execution_count": 30,
   "metadata": {
    "colab": {
     "base_uri": "https://localhost:8080/"
    },
    "id": "F06h7LoZGp1o",
    "outputId": "3e5fbc7c-f4ac-4a92-f9e1-2312b9ba1ed6"
   },
   "outputs": [
    {
     "data": {
      "text/plain": [
       "'5\\' 9\"'"
      ]
     },
     "execution_count": 30,
     "metadata": {},
     "output_type": "execute_result"
    }
   ],
   "source": [
    "# average medalist height in the most recent Winter Olympics\n",
    "recent_year = df[df['Season'] == 'Winter']['Year'].max()\n",
    "winter_df = df[(df['Season'] == 'Winter') & (df['Year'] == recent_year) & (df['Medal'].notnull())]\n",
    "avg_height_cm = winter_df['Height'].mean()\n",
    "avg_height_in = avg_height_cm / 2.54\n",
    "feet = int(avg_height_in // 12)\n",
    "inches = round(avg_height_in % 12)\n",
    "f\"{feet}' {inches}\\\"\"\n"
   ]
  },
  {
   "cell_type": "markdown",
   "metadata": {
    "id": "d1xqcbZ4hJ7N"
   },
   "source": [
    "**4.** What is the average medalist **weight** in the most recent Winter Olympics. Round the average weight to the nearest 2 decimals."
   ]
  },
  {
   "cell_type": "code",
   "execution_count": 31,
   "metadata": {
    "colab": {
     "base_uri": "https://localhost:8080/"
    },
    "id": "JM4p-KcwX4SN",
    "outputId": "4c562e0a-018e-4080-b5b2-0e7dd455e71d"
   },
   "outputs": [
    {
     "data": {
      "text/plain": [
       "72.21"
      ]
     },
     "execution_count": 31,
     "metadata": {},
     "output_type": "execute_result"
    }
   ],
   "source": [
    "# Average medalist weight in the most recent Winter Olympics\n",
    "round(winter_df['Weight'].mean(), 2)"
   ]
  },
  {
   "cell_type": "markdown",
   "metadata": {
    "id": "a5sAhd1-hUn8"
   },
   "source": [
    "**5.** What is the average medalist **height** in the most recent Summer Olympics. Format your answer into Feet' Inches''."
   ]
  },
  {
   "cell_type": "code",
   "execution_count": 32,
   "metadata": {
    "colab": {
     "base_uri": "https://localhost:8080/"
    },
    "id": "gp80aZ4MGp1o",
    "outputId": "43576eae-d510-4395-9109-a54119e2b2b5"
   },
   "outputs": [
    {
     "data": {
      "text/plain": [
       "'5\\' 10\"'"
      ]
     },
     "execution_count": 32,
     "metadata": {},
     "output_type": "execute_result"
    }
   ],
   "source": [
    "# Average medalist height in the most recent Summer Olympics\n",
    "# Filter for the most recent Summer Olympics\n",
    "recent_summer_year = df[df['Season'] == 'Summer']['Year'].max()\n",
    "summer_df = df[(df['Season'] == 'Summer') & (df['Year'] == recent_summer_year) & (df['Medal'].notnull())]\n",
    "\n",
    "# Calculate average height\n",
    "avg_height_cm = summer_df['Height'].mean()\n",
    "\n",
    "# Convert to feet and inches\n",
    "avg_height_in = avg_height_cm / 2.54\n",
    "feet = int(avg_height_in // 12)\n",
    "inches = round(avg_height_in % 12)\n",
    "\n",
    "f\"{feet}' {inches}\\\"\"\n"
   ]
  },
  {
   "cell_type": "markdown",
   "metadata": {
    "id": "VPWh93pEii8z"
   },
   "source": [
    "**6.** What is the average medalist **weight** in the most recent Summer Olympics. Round the average weight to the nearest 2 decimals."
   ]
  },
  {
   "cell_type": "code",
   "execution_count": 33,
   "metadata": {
    "colab": {
     "base_uri": "https://localhost:8080/"
    },
    "id": "FhaUwoiCYONm",
    "outputId": "8687584f-e9e5-4513-dcbe-69fa5683a43b"
   },
   "outputs": [
    {
     "data": {
      "text/plain": [
       "73.96"
      ]
     },
     "execution_count": 33,
     "metadata": {},
     "output_type": "execute_result"
    }
   ],
   "source": [
    "# Average medalist weight in the most recent Summer Olympics\n",
    "round(summer_df['Weight'].mean(), 2)"
   ]
  },
  {
   "cell_type": "markdown",
   "metadata": {
    "id": "6jcCksKHiyQH"
   },
   "source": [
    "**7.** Import `plotly.express` and create a bar chart to visualize the top 10 countries with the most medals by using the data you assigned in Task 3.\n",
    "\n",
    "<div style=\"border: 3px solid #b67ae5; background-color: #f9f1ff; padding: 15px; border-radius: 8px; color: #222; display: flex; align-items: center;\">\n",
    "<span style=\"font-size: 10pt;\">\n",
    "<strong>Hint: </strong> You'll need to asssign top 10 winningest countries table from Task 3 to it's own variable!\n",
    "</span>\n",
    "</div>\n",
    "\n"
   ]
  },
  {
   "cell_type": "code",
   "execution_count": 34,
   "metadata": {
    "id": "fk958EO5Gp1o"
   },
   "outputs": [],
   "source": [
    "# Import plotly express library\n",
    "import plotly.express as px\n"
   ]
  },
  {
   "cell_type": "code",
   "execution_count": null,
   "metadata": {
    "colab": {
     "base_uri": "https://localhost:8080/",
     "height": 756
    },
    "id": "_cCbpCemGp1o",
    "outputId": "a382f7a4-3bcc-4676-88bd-244c188b0d4d"
   },
   "outputs": [],
   "source": [
    "# Asssign top 10 winningest countries table to a variable\n",
    "\n",
    "\n",
    "# Visualize the table as a bar chart\n"
   ]
  }
 ],
 "metadata": {
  "colab": {
   "provenance": []
  },
  "kernelspec": {
   "display_name": "Python 3 (ipykernel)",
   "language": "python",
   "name": "python3"
  },
  "language_info": {
   "codemirror_mode": {
    "name": "ipython",
    "version": 3
   },
   "file_extension": ".py",
   "mimetype": "text/x-python",
   "name": "python",
   "nbconvert_exporter": "python",
   "pygments_lexer": "ipython3",
   "version": "3.10.6"
  },
  "nteract": {
   "version": "0.28.0"
  }
 },
 "nbformat": 4,
 "nbformat_minor": 4
}
