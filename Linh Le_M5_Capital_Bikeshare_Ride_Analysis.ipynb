{
 "cells": [
  {
   "cell_type": "markdown",
   "id": "5c935e10-ff88-4cd9-b5f4-e1aa5111f174",
   "metadata": {
    "id": "5c935e10-ff88-4cd9-b5f4-e1aa5111f174"
   },
   "source": [
    "# **Milestone** | Capital Bikeshare Ride Analysis\n",
    "\n",
    "<div style=\"text-align: center;\">\n",
    "<img src=\"https://cdn.lyft.com/static/bikesharefe/logo/CapitalBikeshare-main.svg\" alt=\"Capital Bikeshare Logo\" width=\"320\"/>\n",
    "</div>\n"
   ]
  },
  {
   "cell_type": "markdown",
   "id": "59f3a3c2-b7dc-439f-88c7-ca1cbeafe4fd",
   "metadata": {
    "id": "59f3a3c2-b7dc-439f-88c7-ca1cbeafe4fd",
    "tags": []
   },
   "source": [
    "## Introduction\n",
    "In this Milesone, you'll take on the role of a junior data analyst at Capital Bikeshare, the public bicycle-sharing system in Washington, D.C. Your job is to help city planners understand how people are using the public bike share system across Washington, D.C. in 2024. The city wants to make data-driven decisions to improve bike availability, reduce maintenance downtime, and better serve high-demand areas.\n",
    "\n",
    "Your manager has asked you to analyze ride data to identify patterns in usage volume, trip distances, and which stations are most frequently used. This information will inform where to allocate bikes, prioritize maintenance resources, and promote underused locations.\n",
    "\n",
    "You will use the `2024_capitol_bikeshare.csv` dataset to complete your analysis. Each row represents one completed bike ride.\n",
    "\n",
    "To start, import the pandas library, so that you can load the data into a DataFrame."
   ]
  },
  {
   "cell_type": "code",
   "execution_count": 2,
   "id": "4eed237b-9257-4f77-b630-183d66e74dd2",
   "metadata": {
    "id": "4eed237b-9257-4f77-b630-183d66e74dd2"
   },
   "outputs": [
    {
     "data": {
      "text/html": [
       "<div>\n",
       "<style scoped>\n",
       "    .dataframe tbody tr th:only-of-type {\n",
       "        vertical-align: middle;\n",
       "    }\n",
       "\n",
       "    .dataframe tbody tr th {\n",
       "        vertical-align: top;\n",
       "    }\n",
       "\n",
       "    .dataframe thead th {\n",
       "        text-align: right;\n",
       "    }\n",
       "</style>\n",
       "<table border=\"1\" class=\"dataframe\">\n",
       "  <thead>\n",
       "    <tr style=\"text-align: right;\">\n",
       "      <th></th>\n",
       "      <th>ride_id</th>\n",
       "      <th>rideable_type</th>\n",
       "      <th>started_at</th>\n",
       "      <th>ended_at</th>\n",
       "      <th>trip_duration_min</th>\n",
       "      <th>start_station_name</th>\n",
       "      <th>start_station_id</th>\n",
       "      <th>end_station_name</th>\n",
       "      <th>end_station_id</th>\n",
       "      <th>member_type</th>\n",
       "    </tr>\n",
       "  </thead>\n",
       "  <tbody>\n",
       "    <tr>\n",
       "      <th>0</th>\n",
       "      <td>4E026D43FD09E59C</td>\n",
       "      <td>classic_bike</td>\n",
       "      <td>2024-03-11 17:46:29</td>\n",
       "      <td>2024-03-11 18:03:07</td>\n",
       "      <td>17.0</td>\n",
       "      <td>22nd &amp; H St NW</td>\n",
       "      <td>31127.0</td>\n",
       "      <td>15th &amp; W St NW</td>\n",
       "      <td>31125.0</td>\n",
       "      <td>member</td>\n",
       "    </tr>\n",
       "    <tr>\n",
       "      <th>1</th>\n",
       "      <td>AB210B914033D41B</td>\n",
       "      <td>classic_bike</td>\n",
       "      <td>2024-03-17 19:31:24</td>\n",
       "      <td>2024-03-17 19:39:34</td>\n",
       "      <td>8.0</td>\n",
       "      <td>Crystal Dr &amp; 15th St S</td>\n",
       "      <td>31003.0</td>\n",
       "      <td>Pentagon City Metro / 12th St &amp; S Hayes St</td>\n",
       "      <td>31005.0</td>\n",
       "      <td>member</td>\n",
       "    </tr>\n",
       "    <tr>\n",
       "      <th>2</th>\n",
       "      <td>3B328C72BC05FDAB</td>\n",
       "      <td>classic_bike</td>\n",
       "      <td>2024-03-07 14:32:34</td>\n",
       "      <td>2024-03-07 15:19:45</td>\n",
       "      <td>47.0</td>\n",
       "      <td>Crystal Dr &amp; 15th St S</td>\n",
       "      <td>31003.0</td>\n",
       "      <td>Crystal Dr &amp; 15th St S</td>\n",
       "      <td>31003.0</td>\n",
       "      <td>casual</td>\n",
       "    </tr>\n",
       "    <tr>\n",
       "      <th>3</th>\n",
       "      <td>A2FD150593E11106</td>\n",
       "      <td>classic_bike</td>\n",
       "      <td>2024-03-29 18:44:08</td>\n",
       "      <td>2024-03-29 18:49:59</td>\n",
       "      <td>6.0</td>\n",
       "      <td>Columbia Rd &amp; Belmont St NW</td>\n",
       "      <td>31113.0</td>\n",
       "      <td>Massachusetts Ave &amp; Dupont Circle NW</td>\n",
       "      <td>31200.0</td>\n",
       "      <td>member</td>\n",
       "    </tr>\n",
       "    <tr>\n",
       "      <th>4</th>\n",
       "      <td>4E18243CAADD3542</td>\n",
       "      <td>classic_bike</td>\n",
       "      <td>2024-03-24 11:18:00</td>\n",
       "      <td>2024-03-24 11:24:28</td>\n",
       "      <td>6.0</td>\n",
       "      <td>Columbia Rd &amp; Belmont St NW</td>\n",
       "      <td>31113.0</td>\n",
       "      <td>Massachusetts Ave &amp; Dupont Circle NW</td>\n",
       "      <td>31200.0</td>\n",
       "      <td>member</td>\n",
       "    </tr>\n",
       "  </tbody>\n",
       "</table>\n",
       "</div>"
      ],
      "text/plain": [
       "            ride_id rideable_type           started_at             ended_at  \\\n",
       "0  4E026D43FD09E59C  classic_bike  2024-03-11 17:46:29  2024-03-11 18:03:07   \n",
       "1  AB210B914033D41B  classic_bike  2024-03-17 19:31:24  2024-03-17 19:39:34   \n",
       "2  3B328C72BC05FDAB  classic_bike  2024-03-07 14:32:34  2024-03-07 15:19:45   \n",
       "3  A2FD150593E11106  classic_bike  2024-03-29 18:44:08  2024-03-29 18:49:59   \n",
       "4  4E18243CAADD3542  classic_bike  2024-03-24 11:18:00  2024-03-24 11:24:28   \n",
       "\n",
       "   trip_duration_min           start_station_name  start_station_id  \\\n",
       "0               17.0               22nd & H St NW           31127.0   \n",
       "1                8.0       Crystal Dr & 15th St S           31003.0   \n",
       "2               47.0       Crystal Dr & 15th St S           31003.0   \n",
       "3                6.0  Columbia Rd & Belmont St NW           31113.0   \n",
       "4                6.0  Columbia Rd & Belmont St NW           31113.0   \n",
       "\n",
       "                             end_station_name  end_station_id member_type  \n",
       "0                              15th & W St NW         31125.0      member  \n",
       "1  Pentagon City Metro / 12th St & S Hayes St         31005.0      member  \n",
       "2                      Crystal Dr & 15th St S         31003.0      casual  \n",
       "3        Massachusetts Ave & Dupont Circle NW         31200.0      member  \n",
       "4        Massachusetts Ave & Dupont Circle NW         31200.0      member  "
      ]
     },
     "execution_count": 2,
     "metadata": {},
     "output_type": "execute_result"
    }
   ],
   "source": [
    "# import the pandas library\n",
    "import pandas as pd\n",
    "# load the data into a dataframe called bike_rides\n",
    "bike_rides = pd.read_csv('datasets/2024_capitol_bikeshare.csv')\n",
    "bike_rides.head()"
   ]
  },
  {
   "cell_type": "markdown",
   "id": "2b52f3ee-a938-4415-baa6-3580bb8c3a6e",
   "metadata": {
    "id": "2b52f3ee-a938-4415-baa6-3580bb8c3a6e"
   },
   "source": [
    "## Task 1: Exploring The Data\n",
    "\n",
    "This task will help you build a foundational understanding of the dataset — what kind of data you’re working with? How much of it is there? Are there any potential issues like missing values? Before any analysis, it’s important to get familiar with the structure so you can make informed decisions later."
   ]
  },
  {
   "cell_type": "code",
   "execution_count": 5,
   "id": "3762e85b-cb63-41a0-b58e-57b41eb4ffa9",
   "metadata": {
    "id": "3762e85b-cb63-41a0-b58e-57b41eb4ffa9",
    "outputId": "55b1d072-0188-47c2-b201-608a8e474f1f"
   },
   "outputs": [
    {
     "data": {
      "text/html": [
       "<div>\n",
       "<style scoped>\n",
       "    .dataframe tbody tr th:only-of-type {\n",
       "        vertical-align: middle;\n",
       "    }\n",
       "\n",
       "    .dataframe tbody tr th {\n",
       "        vertical-align: top;\n",
       "    }\n",
       "\n",
       "    .dataframe thead th {\n",
       "        text-align: right;\n",
       "    }\n",
       "</style>\n",
       "<table border=\"1\" class=\"dataframe\">\n",
       "  <thead>\n",
       "    <tr style=\"text-align: right;\">\n",
       "      <th></th>\n",
       "      <th>ride_id</th>\n",
       "      <th>rideable_type</th>\n",
       "      <th>started_at</th>\n",
       "      <th>ended_at</th>\n",
       "      <th>trip_duration_min</th>\n",
       "      <th>start_station_name</th>\n",
       "      <th>start_station_id</th>\n",
       "      <th>end_station_name</th>\n",
       "      <th>end_station_id</th>\n",
       "      <th>member_type</th>\n",
       "    </tr>\n",
       "  </thead>\n",
       "  <tbody>\n",
       "    <tr>\n",
       "      <th>0</th>\n",
       "      <td>4E026D43FD09E59C</td>\n",
       "      <td>classic_bike</td>\n",
       "      <td>2024-03-11 17:46:29</td>\n",
       "      <td>2024-03-11 18:03:07</td>\n",
       "      <td>17.0</td>\n",
       "      <td>22nd &amp; H St NW</td>\n",
       "      <td>31127.0</td>\n",
       "      <td>15th &amp; W St NW</td>\n",
       "      <td>31125.0</td>\n",
       "      <td>member</td>\n",
       "    </tr>\n",
       "    <tr>\n",
       "      <th>1</th>\n",
       "      <td>AB210B914033D41B</td>\n",
       "      <td>classic_bike</td>\n",
       "      <td>2024-03-17 19:31:24</td>\n",
       "      <td>2024-03-17 19:39:34</td>\n",
       "      <td>8.0</td>\n",
       "      <td>Crystal Dr &amp; 15th St S</td>\n",
       "      <td>31003.0</td>\n",
       "      <td>Pentagon City Metro / 12th St &amp; S Hayes St</td>\n",
       "      <td>31005.0</td>\n",
       "      <td>member</td>\n",
       "    </tr>\n",
       "    <tr>\n",
       "      <th>2</th>\n",
       "      <td>3B328C72BC05FDAB</td>\n",
       "      <td>classic_bike</td>\n",
       "      <td>2024-03-07 14:32:34</td>\n",
       "      <td>2024-03-07 15:19:45</td>\n",
       "      <td>47.0</td>\n",
       "      <td>Crystal Dr &amp; 15th St S</td>\n",
       "      <td>31003.0</td>\n",
       "      <td>Crystal Dr &amp; 15th St S</td>\n",
       "      <td>31003.0</td>\n",
       "      <td>casual</td>\n",
       "    </tr>\n",
       "    <tr>\n",
       "      <th>3</th>\n",
       "      <td>A2FD150593E11106</td>\n",
       "      <td>classic_bike</td>\n",
       "      <td>2024-03-29 18:44:08</td>\n",
       "      <td>2024-03-29 18:49:59</td>\n",
       "      <td>6.0</td>\n",
       "      <td>Columbia Rd &amp; Belmont St NW</td>\n",
       "      <td>31113.0</td>\n",
       "      <td>Massachusetts Ave &amp; Dupont Circle NW</td>\n",
       "      <td>31200.0</td>\n",
       "      <td>member</td>\n",
       "    </tr>\n",
       "    <tr>\n",
       "      <th>4</th>\n",
       "      <td>4E18243CAADD3542</td>\n",
       "      <td>classic_bike</td>\n",
       "      <td>2024-03-24 11:18:00</td>\n",
       "      <td>2024-03-24 11:24:28</td>\n",
       "      <td>6.0</td>\n",
       "      <td>Columbia Rd &amp; Belmont St NW</td>\n",
       "      <td>31113.0</td>\n",
       "      <td>Massachusetts Ave &amp; Dupont Circle NW</td>\n",
       "      <td>31200.0</td>\n",
       "      <td>member</td>\n",
       "    </tr>\n",
       "    <tr>\n",
       "      <th>5</th>\n",
       "      <td>610AAB1B374BFEB6</td>\n",
       "      <td>classic_bike</td>\n",
       "      <td>2024-03-13 11:04:09</td>\n",
       "      <td>2024-03-13 11:40:47</td>\n",
       "      <td>37.0</td>\n",
       "      <td>Long Bridge Aquatic Center</td>\n",
       "      <td>31950.0</td>\n",
       "      <td>17th &amp; K St NW</td>\n",
       "      <td>31213.0</td>\n",
       "      <td>casual</td>\n",
       "    </tr>\n",
       "    <tr>\n",
       "      <th>6</th>\n",
       "      <td>D51D47977A0903CE</td>\n",
       "      <td>classic_bike</td>\n",
       "      <td>2024-03-22 13:21:09</td>\n",
       "      <td>2024-03-22 13:40:02</td>\n",
       "      <td>19.0</td>\n",
       "      <td>22nd &amp; H St NW</td>\n",
       "      <td>31127.0</td>\n",
       "      <td>Wisconsin Ave &amp; O St NW</td>\n",
       "      <td>31312.0</td>\n",
       "      <td>member</td>\n",
       "    </tr>\n",
       "    <tr>\n",
       "      <th>7</th>\n",
       "      <td>6A6D04EA0D480F85</td>\n",
       "      <td>electric_bike</td>\n",
       "      <td>2024-03-14 12:55:53</td>\n",
       "      <td>2024-03-14 13:39:56</td>\n",
       "      <td>44.0</td>\n",
       "      <td>Columbia Pike &amp; S Walter Reed Dr</td>\n",
       "      <td>31067.0</td>\n",
       "      <td>N. Beauregard St. &amp; Berkley St.</td>\n",
       "      <td>31928.0</td>\n",
       "      <td>member</td>\n",
       "    </tr>\n",
       "    <tr>\n",
       "      <th>8</th>\n",
       "      <td>D94ACBEFABC62625</td>\n",
       "      <td>classic_bike</td>\n",
       "      <td>2024-03-06 16:46:36</td>\n",
       "      <td>2024-03-06 16:52:14</td>\n",
       "      <td>6.0</td>\n",
       "      <td>15th &amp; M St NW</td>\n",
       "      <td>31298.0</td>\n",
       "      <td>23rd &amp; M St NW</td>\n",
       "      <td>31128.0</td>\n",
       "      <td>member</td>\n",
       "    </tr>\n",
       "    <tr>\n",
       "      <th>9</th>\n",
       "      <td>5962545649EED75E</td>\n",
       "      <td>electric_bike</td>\n",
       "      <td>2024-03-31 10:35:10</td>\n",
       "      <td>2024-03-31 10:50:02</td>\n",
       "      <td>15.0</td>\n",
       "      <td>5th &amp; K St NW</td>\n",
       "      <td>31600.0</td>\n",
       "      <td>14th &amp; Irving St NW</td>\n",
       "      <td>31124.0</td>\n",
       "      <td>member</td>\n",
       "    </tr>\n",
       "  </tbody>\n",
       "</table>\n",
       "</div>"
      ],
      "text/plain": [
       "            ride_id  rideable_type           started_at             ended_at  \\\n",
       "0  4E026D43FD09E59C   classic_bike  2024-03-11 17:46:29  2024-03-11 18:03:07   \n",
       "1  AB210B914033D41B   classic_bike  2024-03-17 19:31:24  2024-03-17 19:39:34   \n",
       "2  3B328C72BC05FDAB   classic_bike  2024-03-07 14:32:34  2024-03-07 15:19:45   \n",
       "3  A2FD150593E11106   classic_bike  2024-03-29 18:44:08  2024-03-29 18:49:59   \n",
       "4  4E18243CAADD3542   classic_bike  2024-03-24 11:18:00  2024-03-24 11:24:28   \n",
       "5  610AAB1B374BFEB6   classic_bike  2024-03-13 11:04:09  2024-03-13 11:40:47   \n",
       "6  D51D47977A0903CE   classic_bike  2024-03-22 13:21:09  2024-03-22 13:40:02   \n",
       "7  6A6D04EA0D480F85  electric_bike  2024-03-14 12:55:53  2024-03-14 13:39:56   \n",
       "8  D94ACBEFABC62625   classic_bike  2024-03-06 16:46:36  2024-03-06 16:52:14   \n",
       "9  5962545649EED75E  electric_bike  2024-03-31 10:35:10  2024-03-31 10:50:02   \n",
       "\n",
       "   trip_duration_min                start_station_name  start_station_id  \\\n",
       "0               17.0                    22nd & H St NW           31127.0   \n",
       "1                8.0            Crystal Dr & 15th St S           31003.0   \n",
       "2               47.0            Crystal Dr & 15th St S           31003.0   \n",
       "3                6.0       Columbia Rd & Belmont St NW           31113.0   \n",
       "4                6.0       Columbia Rd & Belmont St NW           31113.0   \n",
       "5               37.0        Long Bridge Aquatic Center           31950.0   \n",
       "6               19.0                    22nd & H St NW           31127.0   \n",
       "7               44.0  Columbia Pike & S Walter Reed Dr           31067.0   \n",
       "8                6.0                    15th & M St NW           31298.0   \n",
       "9               15.0                     5th & K St NW           31600.0   \n",
       "\n",
       "                             end_station_name  end_station_id member_type  \n",
       "0                              15th & W St NW         31125.0      member  \n",
       "1  Pentagon City Metro / 12th St & S Hayes St         31005.0      member  \n",
       "2                      Crystal Dr & 15th St S         31003.0      casual  \n",
       "3        Massachusetts Ave & Dupont Circle NW         31200.0      member  \n",
       "4        Massachusetts Ave & Dupont Circle NW         31200.0      member  \n",
       "5                              17th & K St NW         31213.0      casual  \n",
       "6                     Wisconsin Ave & O St NW         31312.0      member  \n",
       "7             N. Beauregard St. & Berkley St.         31928.0      member  \n",
       "8                              23rd & M St NW         31128.0      member  \n",
       "9                         14th & Irving St NW         31124.0      member  "
      ]
     },
     "execution_count": 5,
     "metadata": {},
     "output_type": "execute_result"
    }
   ],
   "source": [
    "# preview the first 10 rows of the dataset\n",
    "bike_rides.head(10)"
   ]
  },
  {
   "cell_type": "code",
   "execution_count": 6,
   "id": "ae43e711-a488-42ce-97da-bac78b7922ea",
   "metadata": {
    "id": "ae43e711-a488-42ce-97da-bac78b7922ea",
    "outputId": "c19718a3-493a-4be7-e336-33486649cacc"
   },
   "outputs": [
    {
     "data": {
      "text/plain": [
       "(862444, 10)"
      ]
     },
     "execution_count": 6,
     "metadata": {},
     "output_type": "execute_result"
    }
   ],
   "source": [
    "# How many rows and columns are in the data?\n",
    "bike_rides.shape"
   ]
  },
  {
   "cell_type": "code",
   "execution_count": 8,
   "id": "a5155840-e034-4d58-a283-1b9653259b82",
   "metadata": {
    "id": "a5155840-e034-4d58-a283-1b9653259b82",
    "outputId": "a84364d8-3d8a-41be-e736-145c132bbd16"
   },
   "outputs": [
    {
     "name": "stdout",
     "output_type": "stream",
     "text": [
      "<class 'pandas.core.frame.DataFrame'>\n",
      "RangeIndex: 862444 entries, 0 to 862443\n",
      "Data columns (total 10 columns):\n",
      " #   Column              Non-Null Count   Dtype  \n",
      "---  ------              --------------   -----  \n",
      " 0   ride_id             862444 non-null  object \n",
      " 1   rideable_type       862444 non-null  object \n",
      " 2   started_at          862444 non-null  object \n",
      " 3   ended_at            862444 non-null  object \n",
      " 4   trip_duration_min   862444 non-null  float64\n",
      " 5   start_station_name  736408 non-null  object \n",
      " 6   start_station_id    736408 non-null  float64\n",
      " 7   end_station_name    731170 non-null  object \n",
      " 8   end_station_id      731004 non-null  float64\n",
      " 9   member_type         862444 non-null  object \n",
      "dtypes: float64(3), object(7)\n",
      "memory usage: 65.8+ MB\n"
     ]
    },
    {
     "data": {
      "text/plain": [
       "ride_id                    0\n",
       "rideable_type              0\n",
       "started_at                 0\n",
       "ended_at                   0\n",
       "trip_duration_min          0\n",
       "start_station_name    126036\n",
       "start_station_id      126036\n",
       "end_station_name      131274\n",
       "end_station_id        131440\n",
       "member_type                0\n",
       "dtype: int64"
      ]
     },
     "execution_count": 8,
     "metadata": {},
     "output_type": "execute_result"
    }
   ],
   "source": [
    "# What kinds of data are in each column? Are there any missing values?\n",
    "bike_rides.info()\n",
    "bike_rides.isnull().sum()\n"
   ]
  },
  {
   "cell_type": "markdown",
   "id": "00159286-a0dc-4233-ae2b-56e1be002ebf",
   "metadata": {
    "id": "00159286-a0dc-4233-ae2b-56e1be002ebf"
   },
   "source": [
    "There are a couple of columns that do have missing values. What might be some reasons for that? How could those missing values affect your analysis?\n",
    "\n",
    "\n",
    "<div style=\"border: 3px solid #30EE99; background-color: #f0fff4; padding: 15px; border-radius: 8px; color: #222; display: flex; align-items: center;\">\n",
    "  <span style=\"font-size: 10pt;\">\n",
    "    <strong>Try This AI Prompt:</strong> I noticed the following columns in my dataset on bikeshare rides contain null values: <i>[list the columns]</i> Why might those values be missing? How should I decide whether to ignore them, fill them in, or drop those rows? What factors should I consider before taking action?\n",
    "  </span>\n",
    "</div>"
   ]
  },
  {
   "cell_type": "markdown",
   "id": "056af07a-6444-415b-9e86-18cff2200fe0",
   "metadata": {
    "id": "056af07a-6444-415b-9e86-18cff2200fe0"
   },
   "source": [
    "Double-click (or enter) to edit"
   ]
  },
  {
   "cell_type": "code",
   "execution_count": 9,
   "id": "56de14a6-4d7b-48a4-a3a0-13952a9157bf",
   "metadata": {
    "id": "56de14a6-4d7b-48a4-a3a0-13952a9157bf",
    "outputId": "9f7dc405-041e-492a-eae4-dd3a29a3b371"
   },
   "outputs": [
    {
     "data": {
      "text/plain": [
       "18.283749437644648"
      ]
     },
     "execution_count": 9,
     "metadata": {},
     "output_type": "execute_result"
    }
   ],
   "source": [
    "# What is the average trip duration in minutes?\n",
    "bike_rides['trip_duration_min'].mean()"
   ]
  },
  {
   "cell_type": "markdown",
   "id": "0aa804ff-c1a7-40f9-ac96-82684e8d1c4d",
   "metadata": {
    "id": "0aa804ff-c1a7-40f9-ac96-82684e8d1c4d"
   },
   "source": [
    "## Task 2: Station Usage Analysis\n",
    "\n",
    "This task explores how riders interact with the bike network — where trips are starting and ending, and which stations are most or least popular. Understanding station usage helps identify hotspots, gaps in service, and opportunities to optimize bike and dock placement."
   ]
  },
  {
   "cell_type": "markdown",
   "id": "df07f8cc-765f-4ec1-a920-db746e89abef",
   "metadata": {
    "id": "df07f8cc-765f-4ec1-a920-db746e89abef"
   },
   "source": [
    "How many unique starting stations are there in the data? Print the answer to the screen."
   ]
  },
  {
   "cell_type": "code",
   "execution_count": 10,
   "id": "08ff7519-402f-48fb-b556-d3fca8b92e02",
   "metadata": {
    "id": "08ff7519-402f-48fb-b556-d3fca8b92e02",
    "outputId": "6da28c53-ca5d-4ccf-a25c-ce1ab55e447b"
   },
   "outputs": [
    {
     "data": {
      "text/plain": [
       "771"
      ]
     },
     "execution_count": 10,
     "metadata": {},
     "output_type": "execute_result"
    }
   ],
   "source": [
    "# Number of unique starting stations\n",
    "bike_rides['start_station_name'].nunique()"
   ]
  },
  {
   "cell_type": "markdown",
   "id": "903bdba2-c33d-4f30-8d5d-21f4444e62f4",
   "metadata": {
    "id": "903bdba2-c33d-4f30-8d5d-21f4444e62f4"
   },
   "source": [
    "What are the five most common stations where rides begin?\n",
    "\n",
    "<div style=\"border: 3px solid #b67ae5; background-color: #f9f1ff; padding: 15px; border-radius: 8px; color: #222; display: flex; align-items: center;\">\n",
    "<span style=\"font-size: 10pt;\">\n",
    "<strong>HINT: </strong> After using <span style=\"font-family: monospace; color: #222;\">.value_counts()</span> to rank the stations, you can add <span style=\"font-family: monospace; color: #222;\">.head(5)</span> at the end to show only the top five most common ones!\n",
    "</span>\n",
    "</div>\n"
   ]
  },
  {
   "cell_type": "code",
   "execution_count": 11,
   "id": "34ab44ee-be1d-429b-b2fd-2db3b4b2cdc8",
   "metadata": {
    "id": "34ab44ee-be1d-429b-b2fd-2db3b4b2cdc8",
    "outputId": "d911e8b6-4a50-4aa2-fb22-bb175185ec0b"
   },
   "outputs": [
    {
     "data": {
      "text/plain": [
       "Columbus Circle / Union Station    8996\n",
       "New Hampshire Ave & T St NW        7792\n",
       "Lincoln Memorial                   6490\n",
       "Jefferson Memorial                 6476\n",
       "15th & P St NW                     6468\n",
       "Name: start_station_name, dtype: int64"
      ]
     },
     "execution_count": 11,
     "metadata": {},
     "output_type": "execute_result"
    }
   ],
   "source": [
    "# Top 5 most common starting stations\n",
    "bike_rides['start_station_name'].value_counts().head(5)"
   ]
  },
  {
   "cell_type": "markdown",
   "id": "d4fd29f0-a1f4-4dc1-94d7-d63bba07819e",
   "metadata": {
    "id": "d4fd29f0-a1f4-4dc1-94d7-d63bba07819e"
   },
   "source": [
    "What are the five most common ride destinations?"
   ]
  },
  {
   "cell_type": "code",
   "execution_count": 12,
   "id": "492ad792-832d-489f-9861-7e296b52fef8",
   "metadata": {
    "id": "492ad792-832d-489f-9861-7e296b52fef8",
    "outputId": "cfc39709-11b5-4dea-bfb5-6e1d48944cf2"
   },
   "outputs": [
    {
     "data": {
      "text/plain": [
       "Columbus Circle / Union Station    8960\n",
       "New Hampshire Ave & T St NW        7542\n",
       "15th & P St NW                     6494\n",
       "Jefferson Memorial                 6444\n",
       "Jefferson Dr & 14th St SW          6426\n",
       "Name: end_station_name, dtype: int64"
      ]
     },
     "execution_count": 12,
     "metadata": {},
     "output_type": "execute_result"
    }
   ],
   "source": [
    "# Top 5 most common ending stations\n",
    "bike_rides['end_station_name'].value_counts().head(5)"
   ]
  },
  {
   "cell_type": "markdown",
   "id": "006c0b18-4037-46ab-8295-e5ee46b98542",
   "metadata": {
    "id": "006c0b18-4037-46ab-8295-e5ee46b98542"
   },
   "source": [
    "## Task 3: Member Type Analysis\n",
    "\n",
    "The column `member_type` indicates whether user was a \"registered\" member (Annual Member, 30-Day Member or Day Key Member) or a \"casual\" rider (Single Trip, 24-Hour Pass, 3-Day Pass or 5-Day Pass). How much each group contributes to the overall ridership can provide insights into which can inform service improvements, membership incentives, and marketing strategies."
   ]
  },
  {
   "cell_type": "markdown",
   "id": "6d645220-dd1a-4f3a-887a-40084248443e",
   "metadata": {
    "id": "6d645220-dd1a-4f3a-887a-40084248443e"
   },
   "source": [
    "How many rides were taken by \"members\" versus \"casual\" riders?\n",
    "<div style=\"border: 3px solid #b67ae5; background-color: #f9f1ff; padding: 15px; border-radius: 8px; color: #222; display: flex; align-items: center;\">\n",
    "<span style=\"font-size: 10pt;\">\n",
    "    <strong>HINT: </strong> Check the <strong>count</strong> of each <strong>value</strong> in the <span style=\"font-family: monospace; color: #222;\">member_type</span> column!\n",
    "</span>\n",
    "</div>"
   ]
  },
  {
   "cell_type": "code",
   "execution_count": 13,
   "id": "3f463bd0-3db8-4089-857b-90a89de13b73",
   "metadata": {
    "id": "3f463bd0-3db8-4089-857b-90a89de13b73",
    "outputId": "fc82d4de-c1af-49f1-a5e2-30c9f9aedb26"
   },
   "outputs": [
    {
     "data": {
      "text/plain": [
       "member    549216\n",
       "casual    313228\n",
       "Name: member_type, dtype: int64"
      ]
     },
     "execution_count": 13,
     "metadata": {},
     "output_type": "execute_result"
    }
   ],
   "source": [
    "# Count of values in member_type\n",
    "bike_rides['member_type'].value_counts()"
   ]
  },
  {
   "cell_type": "markdown",
   "id": "7043cca7-ddfb-4414-90fa-3477c3d4ad89",
   "metadata": {
    "id": "7043cca7-ddfb-4414-90fa-3477c3d4ad89"
   },
   "source": [
    "Are there more members or casual riders in March and April in Washington, D.C.? More members"
   ]
  },
  {
   "cell_type": "markdown",
   "id": "092d9c0a-f61f-426f-afd8-a2e4d62d8325",
   "metadata": {
    "id": "092d9c0a-f61f-426f-afd8-a2e4d62d8325"
   },
   "source": [
    "Double-click (or enter) to edit"
   ]
  },
  {
   "cell_type": "markdown",
   "id": "d52964b6-1f24-4dc3-88ef-37af976918ec",
   "metadata": {
    "id": "d52964b6-1f24-4dc3-88ef-37af976918ec"
   },
   "source": [
    "Find the longest and shortest rides in the entire dataset. Print both to the screen. Think about what might these extreme values tell you about the overall trip behavior for both members and casual riders.\n"
   ]
  },
  {
   "cell_type": "code",
   "execution_count": 22,
   "id": "c7ccee34-31aa-48fa-a6de-ecfb7228ad71",
   "metadata": {
    "id": "c7ccee34-31aa-48fa-a6de-ecfb7228ad71",
    "outputId": "285c8769-890b-4d17-be9c-ab922143668a"
   },
   "outputs": [
    {
     "name": "stdout",
     "output_type": "stream",
     "text": [
      "Shortest ride duration is 1.0\n",
      "Longest ride duration is 1560.0\n"
     ]
    }
   ],
   "source": [
    "# min trip_duration\n",
    "print(f'Shortest ride duration is {bike_rides[\"trip_duration_min\"].min()}')\n",
    "# max trip_duration\n",
    "print(f'Longest ride duration is {bike_rides[\"trip_duration_min\"].max()}')\n",
    "\n"
   ]
  },
  {
   "cell_type": "markdown",
   "id": "0f2b6445-d345-4382-8781-8fcc82142576",
   "metadata": {
    "id": "0f2b6445-d345-4382-8781-8fcc82142576"
   },
   "source": [
    "What is the median trip duration in minutes, across all users? Print to the screen."
   ]
  },
  {
   "cell_type": "code",
   "execution_count": 23,
   "id": "7c2381c9-88d3-41ed-b280-aee4d584df88",
   "metadata": {
    "id": "7c2381c9-88d3-41ed-b280-aee4d584df88",
    "outputId": "a0c8e07c-52e8-4850-b960-b09fba43b2ee"
   },
   "outputs": [
    {
     "name": "stdout",
     "output_type": "stream",
     "text": [
      "Median trip duration is 10.0 minutes\n"
     ]
    }
   ],
   "source": [
    "# median trip_duration\n",
    "print(f'Median trip duration is {bike_rides[\"trip_duration_min\"].median()} minutes')"
   ]
  },
  {
   "cell_type": "markdown",
   "id": "db11322a-9794-4d10-be6d-cad16ebb13b2",
   "metadata": {
    "id": "db11322a-9794-4d10-be6d-cad16ebb13b2"
   },
   "source": [
    "In Task 1, you found the mean trip duration. Why might the median be more useful than the mean in this case?\n",
    "\n",
    "<div style=\"border: 3px solid #30EE99; background-color: #f0fff4; padding: 15px; border-radius: 8px; color: #222; display: flex; align-items: center;\">\n",
    "  <span style=\"font-size: 10pt;\">\n",
    "    <strong>Try This AI Prompt:</strong> I found that the median trip duration was XX minutes, but the mean was YY minutes. Why might the median be a more reliable metric in this context?\n",
    "  </span>\n",
    "</div>"
   ]
  },
  {
   "cell_type": "markdown",
   "id": "dea38a0b-bc3a-49a1-8591-7e72571c7d66",
   "metadata": {
    "id": "dea38a0b-bc3a-49a1-8591-7e72571c7d66"
   },
   "source": [
    "I found that the median trip duration was 10.0 minutes, but the mean was 18.28 minutes. The mean is pulled up by unusually long rides (like the max of 1,560 minutes), which are likely outliers. The median better reflects the \"typical\" trip duration for most users because it isn't affected by these extreme values. In this context, the median provides a more accurate picture of central tendency for the majority of riders."
   ]
  },
  {
   "cell_type": "markdown",
   "id": "ae032e78-c027-43a6-8be5-d21ac17891cf",
   "metadata": {
    "id": "ae032e78-c027-43a6-8be5-d21ac17891cf"
   },
   "source": [
    "## Task 4: Identifying Underused Resources\n",
    "\n",
    "Finally, you're looking for stations with low engagement to uncover inefficiencies in the system. Spotting underused stations helps inform marketing strategies, relocation plans, or targeted service improvements to boost ridership in overlooked areas.\n",
    "\n"
   ]
  },
  {
   "cell_type": "markdown",
   "id": "07da658b-6404-4b3b-beb0-41e8a8e5f48c",
   "metadata": {
    "id": "07da658b-6404-4b3b-beb0-41e8a8e5f48c"
   },
   "source": [
    "Identify the **top 25** stations with the *fewest* ride departures."
   ]
  },
  {
   "cell_type": "code",
   "execution_count": 28,
   "id": "716d426a-fec3-4bf9-b91a-8491a342c816",
   "metadata": {
    "id": "716d426a-fec3-4bf9-b91a-8491a342c816",
    "outputId": "00d542d4-9b1e-4cf3-940b-2e00bc6af0f4"
   },
   "outputs": [
    {
     "data": {
      "text/plain": [
       "Monroe St & Monroe Pl                        10\n",
       "Division Ave & Foote St NE                    8\n",
       "Fair Woods Pkwy & Fairfax Blvd                8\n",
       "GMU/Rappahannock River Ln                     8\n",
       "Lake Newport Rd and Autumn Ridge Cir          8\n",
       "Ridge Rd Community Center                     8\n",
       "The Shoppes @ Burnt Mills                     8\n",
       "Fairfax Village                               8\n",
       "Key West Ave & Diamondback Dr                 6\n",
       "37th & Ely Pl SE                              6\n",
       "Ridge Rd & Southern Ave SE                    6\n",
       "United Medical Center                         6\n",
       "White House                                   6\n",
       "Green Range Dr and Glade Dr                   6\n",
       "Becontree Ln & Goldenrain Ct                  6\n",
       "Medical Center Dr & Key West Ave              4\n",
       "GMU/Patriot Cir & York Dr                     4\n",
       "Key West Ave & Great Seneca Hwy               4\n",
       "GMU/Horizon Hall & Harris Theater             4\n",
       "New Hampshire & Lockwood                      4\n",
       "Joliet St & MLK Ave SW/Bald Eagle Rec Ctr     4\n",
       "White Oak Rec Center                          4\n",
       "Mission Square Dr & Miranda Ct                4\n",
       "White Oak Transit Center                      2\n",
       "Stewart Ln & Old Columbia Pike                2\n",
       "Name: start_station_name, dtype: int64"
      ]
     },
     "execution_count": 28,
     "metadata": {},
     "output_type": "execute_result"
    }
   ],
   "source": [
    "# Top 10 most unpopular starting stations\n",
    "least_used_stations = bike_rides['start_station_name'].value_counts().tail(25)\n",
    "least_used_stations\n",
    "\n",
    "\n"
   ]
  },
  {
   "cell_type": "markdown",
   "id": "fc6c8af2-35fe-4f0b-b0bc-ab96504efbb8",
   "metadata": {
    "id": "fc6c8af2-35fe-4f0b-b0bc-ab96504efbb8"
   },
   "source": [
    "What proportion of all rides started from these 25 least-used stations?\n",
    "\n",
    "<div style=\"border: 3px solid #b67ae5; background-color: #f9f1ff; padding: 15px; border-radius: 8px; color: #222; display: flex; align-items: center;\">\n",
    "<span style=\"font-size: 10pt;\">\n",
    "<strong>HINT: </strong> There are several ways to go about this one! Here's one way: first find the total number of rides in the dataset using <span style=\"font-family: monospace; color: #222;\">bike_rides.shape</span> from Task 1. Then, sum the number of rides that started from the ten least-used stations and divide that by the total number of rides. You could also use ChatGPT for help here, too!\n",
    "    </span>\n",
    "</div>\n",
    "\n"
   ]
  },
  {
   "cell_type": "code",
   "execution_count": 29,
   "id": "7f8eed01-aa2c-4456-9106-6bf7ee5da386",
   "metadata": {
    "id": "7f8eed01-aa2c-4456-9106-6bf7ee5da386",
    "outputId": "e7cbd76e-2647-46f1-ead8-e861d762a0b5"
   },
   "outputs": [
    {
     "name": "stdout",
     "output_type": "stream",
     "text": [
      "Proportion of all rides from the 25 least-used stations: 0.0001669673625186099\n"
     ]
    }
   ],
   "source": [
    "# proprtion of unpopular rides\n",
    "total_rides = bike_rides.shape[0]\n",
    "unpopular_ride_count = least_used_stations.sum()\n",
    "proportion_unpopular = unpopular_ride_count / total_rides\n",
    "print(f'Proportion of all rides from the 25 least-used stations: {proportion_unpopular}')\n"
   ]
  },
  {
   "cell_type": "markdown",
   "id": "e11182c0-c146-4ba4-ab7b-9d6122f11024",
   "metadata": {
    "id": "e11182c0-c146-4ba4-ab7b-9d6122f11024"
   },
   "source": [
    "Based on your findings, do you think low-usage stations are underperforming due to location or lack of awareness? What would you recommend Capital Bikeshare do to increase usage in those areas? Don't forget you can use ChatGPT as a teammate here in crafting your recommendation!"
   ]
  },
  {
   "cell_type": "markdown",
   "id": "7e0170c6-cd24-46eb-8cda-c2690ef69f1b",
   "metadata": {
    "id": "7e0170c6-cd24-46eb-8cda-c2690ef69f1b"
   },
   "source": [
    "Double-click (or enter) to edit"
   ]
  },
  {
   "cell_type": "code",
   "execution_count": null,
   "id": "fabbc6ac-2e06-4da4-b5f7-2893a517f9f4",
   "metadata": {
    "id": "fabbc6ac-2e06-4da4-b5f7-2893a517f9f4"
   },
   "outputs": [],
   "source": [
    "The 25 least-used starting stations make up less than 0.02% of all rides, indicating extremely low engagement. These stations may be underperforming due to inconvenient locations, such as being far from transit hubs or areas with high residential density, or they may suffer from lack of visibility and limited promotion. I recommend that Capital Bikeshare audit the physical condition and signage at these locations, explore partnerships with nearby businesses or community centers to raise awareness, and consider relocating or consolidating stations that show persistently low usage, especially when operational costs outweigh potential benefits. Additionally, analyzing nearby infrastructure such as bike lanes, public transit access, and tourist attractions could help identify which underused stations have room for growth."
   ]
  }
 ],
 "metadata": {
  "colab": {
   "provenance": []
  },
  "kernelspec": {
   "display_name": "Python 3 (ipykernel)",
   "language": "python",
   "name": "python3"
  },
  "language_info": {
   "codemirror_mode": {
    "name": "ipython",
    "version": 3
   },
   "file_extension": ".py",
   "mimetype": "text/x-python",
   "name": "python",
   "nbconvert_exporter": "python",
   "pygments_lexer": "ipython3",
   "version": "3.10.6"
  }
 },
 "nbformat": 4,
 "nbformat_minor": 5
}
