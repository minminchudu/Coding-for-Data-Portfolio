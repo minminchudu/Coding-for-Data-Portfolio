{
 "cells": [
  {
   "cell_type": "markdown",
   "id": "0c76755a-3c94-4e17-bbf1-ad139be767fc",
   "metadata": {
    "id": "0c76755a-3c94-4e17-bbf1-ad139be767fc"
   },
   "source": [
    "# Hello, World!"
   ]
  },
  {
   "cell_type": "markdown",
   "id": "UWfxmAeyBdJs",
   "metadata": {
    "id": "UWfxmAeyBdJs",
    "jp-MarkdownHeadingCollapsed": true,
    "tags": []
   },
   "source": [
    "## Task 1 - Hello, World!\n",
    "\n",
    "So you've heard that using Python to get your computer to print \"Hello, World!\" to your screen is your official initiation to the club of coders. Let's make sure you're in.\n",
    "\n",
    "Store the phrase \"Hello, World!\" in the variable named `greeting` and use the `print()` function to print `greeting` to your screen."
   ]
  },
  {
   "cell_type": "markdown",
   "id": "5770a468-f3b1-49c7-9c2e-3ba7cad1c750",
   "metadata": {
    "id": "UWfxmAeyBdJs"
   },
   "source": [
    "## Task 1 - Hello, World!\n",
    "\n",
    "So you've heard that using Python to get your computer to print \"Hello, World!\" to your screen is your official initiation to the club of coders. Let's make sure you're in.\n",
    "\n",
    "Store the phrase \"Hello, World!\" in the variable named `greeting` and use the `print()` function to print `greeting` to your screen."
   ]
  },
  {
   "cell_type": "markdown",
   "id": "2SNfL2NH7dDv",
   "metadata": {
    "id": "2SNfL2NH7dDv"
   },
   "source": [
    "<div style=\"border: 3px solid #b67ae5; background-color: #f9f1ff; padding: 15px; border-radius: 8px; color: #222; display: flex; align-items: center;\">\n",
    "<span style=\"font-size: 10pt;\">\n",
    "<strong>Hint: </strong>You'll need to use ' or \" to denote the string variable type!\n",
    "</span>\n",
    "</div>"
   ]
  },
  {
   "cell_type": "code",
   "execution_count": 1,
   "id": "a120ed1c-3b42-417c-bff7-72f3e66d94a7",
   "metadata": {
    "colab": {
     "base_uri": "https://localhost:8080/"
    },
    "executionInfo": {
     "elapsed": 108,
     "status": "ok",
     "timestamp": 1677621852223,
     "user": {
      "displayName": "Lauren Crider",
      "userId": "01906226610995258482"
     },
     "user_tz": 420
    },
    "id": "a120ed1c-3b42-417c-bff7-72f3e66d94a7",
    "outputId": "505be385-9ed2-442f-ba9c-e475707a3069"
   },
   "outputs": [
    {
     "name": "stdout",
     "output_type": "stream",
     "text": [
      "Hello, World!\n"
     ]
    }
   ],
   "source": [
    "# Store the phrase \"Hello, World!\" in a variable named greeting below.\n",
    "# then print greeting\n",
    "greeting = \"Hello, World!\"\n",
    "print(greeting)"
   ]
  },
  {
   "cell_type": "markdown",
   "id": "EZw4nOA7CCPO",
   "metadata": {
    "id": "EZw4nOA7CCPO"
   },
   "source": [
    "## Task 2 - What's your name, where 'ya from?\n",
    "\n",
    "Next, store your name in the variable called `name`, and your home town in the variable called `town_name`.\n",
    "\n",
    "\n",
    "Both `name` and `town_name` are part of the f-string stored in the variable called `sentence_1` in the following cell. Run the cell to print `sentence_1` to your screen!"
   ]
  },
  {
   "cell_type": "code",
   "execution_count": 3,
   "id": "9e8b6fba-2f3b-49e0-9f7d-841b62726436",
   "metadata": {
    "colab": {
     "base_uri": "https://localhost:8080/"
    },
    "executionInfo": {
     "elapsed": 3,
     "status": "ok",
     "timestamp": 1677621852337,
     "user": {
      "displayName": "Lauren Crider",
      "userId": "01906226610995258482"
     },
     "user_tz": 420
    },
    "id": "9e8b6fba-2f3b-49e0-9f7d-841b62726436",
    "outputId": "4689d673-973f-4399-9151-a0d785054905"
   },
   "outputs": [
    {
     "name": "stdout",
     "output_type": "stream",
     "text": [
      "My name is Linh and I was born in a small town called Ho Chi Minh, where my parents quickly realized I was destined for greatness.\n"
     ]
    }
   ],
   "source": [
    "# Store your name and home town in the variables below.\n",
    "name = \"Linh\"\n",
    "town_name = \"Ho Chi Minh\"\n",
    "\n",
    "# do not modify the code below\n",
    "sentence_1 = f'My name is {name} and I was born in a small town called {town_name}, where my parents quickly realized I was destined for greatness.'\n",
    "print(sentence_1)"
   ]
  },
  {
   "cell_type": "markdown",
   "id": "-eaCeuneCwdF",
   "metadata": {
    "id": "-eaCeuneCwdF"
   },
   "source": [
    "## Task 3 - So close!\n",
    "\n",
    "We all make mistakes. Some of us make mistakes all the time! That's why one of the skills we're going to practice is spotting mistakes -- or *errors* -- in our code and fixing them. Coders like to call this \"debugging\" 🪲\n",
    "\n",
    "See if you can spot the error in the sentence below and debug it! Once fix the error, run the cell. You'll know the cell is bug-free when `sentence_2` prints to your screen."
   ]
  },
  {
   "cell_type": "markdown",
   "id": "8Rb_r5_o7Ubh",
   "metadata": {
    "id": "8Rb_r5_o7Ubh"
   },
   "source": [
    "<div style=\"border: 3px solid #30EE99; background-color: #f0fff4; padding: 15px; border-radius: 8px; color: #222; display: flex; align-items: center;\">\n",
    "  <span style=\"font-size: 10pt;\">\n",
    "    <strong>Try This AI Prompt:</strong> Can you help me debug this Python error? (Paste the code + error)\n",
    "  </span>\n",
    "</div>"
   ]
  },
  {
   "cell_type": "code",
   "execution_count": 4,
   "id": "bfb78652-01c9-4561-b897-64f1046e7e79",
   "metadata": {
    "colab": {
     "base_uri": "https://localhost:8080/"
    },
    "executionInfo": {
     "elapsed": 3,
     "status": "ok",
     "timestamp": 1677621852337,
     "user": {
      "displayName": "Lauren Crider",
      "userId": "01906226610995258482"
     },
     "user_tz": 420
    },
    "id": "bfb78652-01c9-4561-b897-64f1046e7e79",
    "outputId": "d1c481ca-3ed9-4fb9-c871-f7f2fd92007d"
   },
   "outputs": [
    {
     "name": "stdout",
     "output_type": "stream",
     "text": [
      "But, greatness turned out to be a little harder to achieve than they'd thought, so I settled for being mildly amusing instead.\n"
     ]
    }
   ],
   "source": [
    "# Spot the error!\n",
    "# If you're not sure run the cell to see the error message\n",
    "sentence_2 = \"But, greatness turned out to be a little harder to achieve than they'd thought, so I settled for being mildly amusing instead.\"\n",
    "print(sentence_2)"
   ]
  },
  {
   "cell_type": "markdown",
   "id": "1xDDv7CBHGCm",
   "metadata": {
    "id": "1xDDv7CBHGCm"
   },
   "source": [
    "## Task 4 - Dream Jobs!\n",
    "\n",
    "In the variables defined below, write 3 \"dream jobs\" that maybe you wanted to have when you were a kid (or even maybe even want now, as an adult!)\n",
    "\n",
    "For example, young Dr. Alvarez's dream jobs were:\n",
    "\n",
    "```python\n",
    "job_1 = 'astronaut'\n",
    "job_2 = 'marine biologist'\n",
    "job_3 = 'rockstar'\n",
    "```"
   ]
  },
  {
   "cell_type": "code",
   "execution_count": 13,
   "id": "ae16b156-1b05-4fc8-a95f-965edf8f75bf",
   "metadata": {
    "colab": {
     "base_uri": "https://localhost:8080/"
    },
    "executionInfo": {
     "elapsed": 2,
     "status": "ok",
     "timestamp": 1677621852337,
     "user": {
      "displayName": "Lauren Crider",
      "userId": "01906226610995258482"
     },
     "user_tz": 420
    },
    "id": "ae16b156-1b05-4fc8-a95f-965edf8f75bf",
    "outputId": "08830833-23f5-4448-d021-312df87f9811"
   },
   "outputs": [
    {
     "name": "stdout",
     "output_type": "stream",
     "text": [
      "Despite my best efforts, I never quite managed to become an author, model, or dog breeder.\n"
     ]
    }
   ],
   "source": [
    "# write your 3 dream jobs below\n",
    "job_1 = \"author\"\n",
    "job_2 = \"model\"\n",
    "job_3 = \"dog breeder\"\n",
    "\n",
    "\n",
    "# do not modify the code below\n",
    "sentence_3 = f'Despite my best efforts, I never quite managed to become an {job_1}, {job_2}, or {job_3}.'\n",
    "print(sentence_3)"
   ]
  },
  {
   "cell_type": "markdown",
   "id": "KN0VOA5vIxo_",
   "metadata": {
    "id": "KN0VOA5vIxo_"
   },
   "source": [
    "## Task 5 - Favorite Hobby!\n",
    "\n",
    "Next, store your favorite hobby in the variable called `hobby` and use a f-string, like the ones above, to store the following sentence about your hobby in the variable named `sentence_4`:\n",
    "\n",
    "\n",
    "> \"But I did become really good at ________________! And that\\'s good enough for me.\"\n",
    "\n",
    "Use the `print()` function to print `sentence_4` to your screen."
   ]
  },
  {
   "cell_type": "code",
   "execution_count": 7,
   "id": "68323ebf-afc7-418f-aa91-c8decb7a0f15",
   "metadata": {
    "colab": {
     "base_uri": "https://localhost:8080/"
    },
    "executionInfo": {
     "elapsed": 130,
     "status": "ok",
     "timestamp": 1677621852466,
     "user": {
      "displayName": "Lauren Crider",
      "userId": "01906226610995258482"
     },
     "user_tz": 420
    },
    "id": "68323ebf-afc7-418f-aa91-c8decb7a0f15",
    "outputId": "3268d5fe-d57d-48da-afab-179d3c51620d"
   },
   "outputs": [
    {
     "name": "stdout",
     "output_type": "stream",
     "text": [
      "But I did become really good at writing! And that's good enough for me.\n"
     ]
    }
   ],
   "source": [
    "# Write down your favorite hobby below\n",
    "hobby = \"writing\"\n",
    "\n",
    "# Store the sentence written above in the variable named sentence_4\n",
    "# then print sentence_4\n",
    "sentence_4 = f\"But I did become really good at {hobby}! And that's good enough for me.\"\n",
    "print(sentence_4)\n"
   ]
  },
  {
   "cell_type": "markdown",
   "id": "5oVZeOzNJJgA",
   "metadata": {
    "id": "5oVZeOzNJJgA"
   },
   "source": [
    "## Task 6 - Put it all together now!\n",
    "\n",
    "From each Task above, you have defined several variables. They are:\n",
    "\n",
    "- `greeting`\n",
    "- `sentence_1`\n",
    "- `sentence_2`\n",
    "- `sentence_3`\n",
    "- `sentence_4`\n",
    "\n",
    "\n",
    "Use your Python skills to `print` all of them in one single message. There are indeed a few different ways to do this (string concatenation, f-strings, etc). In whichever way you choose, make sure there is a proper space between the greeting and each sentence.  "
   ]
  },
  {
   "cell_type": "code",
   "execution_count": 14,
   "id": "32dfd395-48be-4cc8-b8bc-2dad086d2ed8",
   "metadata": {
    "colab": {
     "base_uri": "https://localhost:8080/"
    },
    "executionInfo": {
     "elapsed": 3,
     "status": "ok",
     "timestamp": 1677621852466,
     "user": {
      "displayName": "Lauren Crider",
      "userId": "01906226610995258482"
     },
     "user_tz": 420
    },
    "id": "32dfd395-48be-4cc8-b8bc-2dad086d2ed8",
    "outputId": "48c67f7c-c138-4594-d2d6-93defc3bd329"
   },
   "outputs": [
    {
     "name": "stdout",
     "output_type": "stream",
     "text": [
      "Hello, World! My name is Linh and I was born in a small town called Ho Chi Minh, where my parents quickly realized I was destined for greatness. But, greatness turned out to be a little harder to achieve than they'd thought, so I settled for being mildly amusing instead. Despite my best efforts, I never quite managed to become an author, model, or dog breeder. But I did become really good at writing! And that's good enough for me.\n"
     ]
    }
   ],
   "source": [
    "# show all of the messages above using one single print statement\n",
    "print(greeting, sentence_1, sentence_2, sentence_3, sentence_4)"
   ]
  },
  {
   "cell_type": "markdown",
   "id": "Ysm4xYt4-Hoh",
   "metadata": {
    "id": "Ysm4xYt4-Hoh"
   },
   "source": [
    "## LevelUp!\n",
    "Are you ready to take your skills to the next level?! The \"\\n\" is a special character in coding that represents a new line or line break. It is often used in strings to create line breaks between text, so that the output appears on separate lines.\n",
    "\n",
    "Take a look at the following Hello World example (what else!?):\n",
    "```python\n",
    "print('Hello\\nWorld')\n",
    "```\n",
    "The output of this code would be:\n",
    "```\n",
    "Hello\n",
    "World\n",
    "```\n",
    "See if you can print each sentence to a new line with the \"\\n\" character!\n"
   ]
  },
  {
   "cell_type": "code",
   "execution_count": 18,
   "id": "IPrXjf_X-9y7",
   "metadata": {
    "colab": {
     "base_uri": "https://localhost:8080/"
    },
    "executionInfo": {
     "elapsed": 3,
     "status": "ok",
     "timestamp": 1677621852467,
     "user": {
      "displayName": "Lauren Crider",
      "userId": "01906226610995258482"
     },
     "user_tz": 420
    },
    "id": "IPrXjf_X-9y7",
    "outputId": "20b0ee09-d5be-4b11-f8dc-c948599058f2"
   },
   "outputs": [
    {
     "name": "stdout",
     "output_type": "stream",
     "text": [
      "Hello, World!\n",
      "My name is Linh and I was born in a small town called Ho Chi Minh, where my parents quickly realized I was destined for greatness.\n",
      "But, greatness turned out to be a little harder to achieve than they'd thought, so I settled for being mildly amusing instead.\n",
      "Despite my best efforts, I never quite managed to become an author, model, or dog breeder.\n",
      "But I did become really good at writing! And that's good enough for me.\n"
     ]
    }
   ],
   "source": [
    "# write code here \n",
    "print(f\"{greeting}\\n{sentence_1}\\n{sentence_2}\\n{sentence_3}\\n{sentence_4}\")"
   ]
  }
 ],
 "metadata": {
  "colab": {
   "provenance": []
  },
  "kernelspec": {
   "display_name": "Python 3 (ipykernel)",
   "language": "python",
   "name": "python3"
  },
  "language_info": {
   "codemirror_mode": {
    "name": "ipython",
    "version": 3
   },
   "file_extension": ".py",
   "mimetype": "text/x-python",
   "name": "python",
   "nbconvert_exporter": "python",
   "pygments_lexer": "ipython3",
   "version": "3.10.6"
  }
 },
 "nbformat": 4,
 "nbformat_minor": 5
}
