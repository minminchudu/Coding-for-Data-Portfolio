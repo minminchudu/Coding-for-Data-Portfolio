{
 "cells": [
  {
   "cell_type": "markdown",
   "id": "6S6KEFGNLT5W",
   "metadata": {
    "id": "6S6KEFGNLT5W"
   },
   "source": [
    "# **Milestone** | Cleaning & Analyzing Revenue Data for ASOS\n",
    "\n",
    "<div style=\"text-align: center;\">\n",
    "<img src=\"https://upload.wikimedia.org/wikipedia/commons/a/a8/Asos.svg\" alt=\"ASOS Logo\" width=\"200\"/>\n",
    "</div>"
   ]
  },
  {
   "cell_type": "markdown",
   "id": "uzXv7ZCCSM7V",
   "metadata": {
    "id": "uzXv7ZCCSM7V"
   },
   "source": [
    "## Introduction\n",
    "In this Milesone, you'll take on the role of a Junior Data Analyst at ASOS, an online fast-fashion and cosmetic retailer. Your task is to help make sens of some weekly revenue data that ... isn't exactly clean.\n",
    "\n",
    "In the list named `revenue_by_week`, you'll find a snippet of ASOS's estimated weekly revenue, captured in millons of pounds.\n",
    "\n",
    "If you try to sum this list, Python throws a TypeError. Why?"
   ]
  },
  {
   "cell_type": "code",
   "execution_count": null,
   "id": "1201302e",
   "metadata": {
    "colab": {
     "base_uri": "https://localhost:8080/",
     "height": 203
    },
    "executionInfo": {
     "elapsed": 160,
     "status": "error",
     "timestamp": 1677628035931,
     "user": {
      "displayName": "Robert Alvarez",
      "userId": "04192298507777468272"
     },
     "user_tz": 360
    },
    "id": "1201302e",
    "outputId": "09c1f36d-1ff0-4d7f-bfa7-cc331397d824"
   },
   "outputs": [],
   "source": [
    "revenue_by_week = [65, 77, '66', '74',\n",
    "                   64, 82, '86', 72, '80',\n",
    "                   96, 101, '35', '72', '68',\n",
    "                  ]\n",
    "\n",
    "sum(revenue_by_week)\n",
    "\n"
   ]
  },
  {
   "cell_type": "code",
   "execution_count": null,
   "id": "fe270d1f-8314-4c71-ace7-4e402bf59367",
   "metadata": {},
   "outputs": [],
   "source": [
    "REASON: the above list has a mix of integer and strings. The sum() function cannot be used for calculating strings."
   ]
  },
  {
   "cell_type": "markdown",
   "id": "tHX9bSorNgZB",
   "metadata": {
    "id": "tHX9bSorNgZB"
   },
   "source": [
    "<div style=\"border: 3px solid #30EE99; background-color: #f0fff4; padding: 15px; border-radius: 8px; color: #222; display: flex; align-items: center;\">\n",
    "  <span style=\"font-size: 10pt;\">\n",
    "    <strong>Try This AI Prompt:</strong> I have the following list of revenue data:\n",
    "revenue_by_week = [65, 77, '66', '74', 64, 82, '86', 72, '80', 96, 101, '35', '72', '68']\n",
    "When I try to sum this list, I get a TypeError. Why is that happening, and how can I fix it?\n",
    "  </span>\n",
    "</div>\n"
   ]
  },
  {
   "cell_type": "markdown",
   "id": "46af0e4d",
   "metadata": {
    "id": "46af0e4d"
   },
   "source": [
    "## Task 1: Cleaning The Data\n",
    "\n",
    "A `TypeError` is basically saying that Python doesn't know how to add (`+`) a number (`int`) and string (`str`) together.\n",
    "\n",
    "Take a closer look at the `revenue_by_week` list. You'll notice that some numbers are stored as strings (with quotes around them), while others are integers.\n",
    "\n",
    "While you could go into the list and manually remove all of the `'` marks, that sounds like a pain, and imagine if you had a lot more numbers than the three months of ASOS data. You can use your programming skills so that Python does the manual work for you! There's a built-in function, `int()`, that changes the argument given to it into a number.\n",
    "\n",
    "**Run the cell below** to see a demonstration on some various data types.\n",
    "\n",
    "<div style=\"border: 3px solid #b67ae5; background-color: #f9f1ff; padding: 15px; border-radius: 8px; color: #222; display: flex; align-items: center;\">\n",
    "<span style=\"font-size: 10pt;\">\n",
    "<strong>Note: </strong>The last line in the cell will give an error since a `list` is not a number (the individual elements can be, though!)\n",
    "</span>\n",
    "</div>"
   ]
  },
  {
   "cell_type": "code",
   "execution_count": null,
   "id": "5838519a",
   "metadata": {
    "colab": {
     "base_uri": "https://localhost:8080/",
     "height": 257
    },
    "executionInfo": {
     "elapsed": 135,
     "status": "error",
     "timestamp": 1677628062148,
     "user": {
      "displayName": "Robert Alvarez",
      "userId": "04192298507777468272"
     },
     "user_tz": 360
    },
    "id": "5838519a",
    "outputId": "fbdd5d49-927c-46a9-e679-1ff65e5014bb"
   },
   "outputs": [],
   "source": [
    "print(int(105))   # integer\n",
    "print(int(52.80)) # decimal (float)\n",
    "print(int('97'))  # integer string\n",
    "print(int([105, '97'])) # list"
   ]
  },
  {
   "cell_type": "markdown",
   "id": "291f51c4",
   "metadata": {
    "id": "291f51c4"
   },
   "source": [
    "Notice that the `int()` function can accept values that are already numbers (chopping off any decimal part if present) or strings that depict integers (it will fail on decimal strings, however). But you should also notice that Python threw an error when we tried to give it a list.\n",
    "\n",
    "In order to clean the data, we need to do that item by item.\n",
    "\n",
    "\n",
    "To complete this task, create a new list `cleaned_revenue` that has all of the data values in a numeric data type:\n",
    "- Set up `cleaned_revenue` as an empty list.\n",
    "- Use a `for` loop to loop over the elements of `revenue_by_week`.\n",
    "  - For each element, convert it to an integer data type with the `int()` function\n",
    "  - Append the converted value to the `cleaned_revenue` list.\n",
    "\n",
    "Outside of your loop, `print` the completed `cleaned_revenue` and `print` the total sum of values.\n",
    "\n",
    "<div style=\"border: 3px solid #30EE99; background-color: #f0fff4; padding: 15px; border-radius: 8px; color: #222; display: flex; align-items: center;\">\n",
    "  <span style=\"font-size: 10pt;\">\n",
    "    <strong>Try This AI Prompt:</strong> I’ve got a mix of strings and integers in my list, and I’m converting everything to int(). Are there any risks or edge cases where this approach could go wrong? When might it fail in a real dataset?\n",
    "  </span>\n",
    "</div>"
   ]
  },
  {
   "cell_type": "code",
   "execution_count": 7,
   "id": "acdf642e",
   "metadata": {
    "colab": {
     "base_uri": "https://localhost:8080/"
    },
    "executionInfo": {
     "elapsed": 4,
     "status": "ok",
     "timestamp": 1677628362997,
     "user": {
      "displayName": "Robert Alvarez",
      "userId": "04192298507777468272"
     },
     "user_tz": 360
    },
    "id": "acdf642e",
    "outputId": "ac93f0cc-37c1-4baa-dc9c-a3c3f61ac350"
   },
   "outputs": [
    {
     "name": "stdout",
     "output_type": "stream",
     "text": [
      "1038\n"
     ]
    }
   ],
   "source": [
    "# set up storage for cleaned data\n",
    "revenue_by_week = [65, 77, '66', '74',\n",
    "                   64, 82, '86', 72, '80',\n",
    "                   96, 101, '35', '72', '68',\n",
    "                  ]\n",
    "cleaned_revenue = []\n",
    "\n",
    "# loop through data and convert to integers\n",
    "for revenue in revenue_by_week:\n",
    "    cleaned_revenue.append(int(revenue))\n",
    "\n",
    "\n",
    "# assess the cleaned data by printing it\n",
    "print(sum(cleaned_revenue))\n"
   ]
  },
  {
   "cell_type": "markdown",
   "id": "luR88hw0X7oo",
   "metadata": {
    "id": "luR88hw0X7oo"
   },
   "source": [
    "<div style=\"border: 3px solid #f8c43e; background-color: #fff3c1; padding: 15px; border-radius: 8px; color: #222; display: flex; align-items: center;\">\n",
    "  <span style=\"font-size: 10pt;\">\n",
    "      If done correctly, the value for the <span style=\"font-family: monospace; color: #222;\">sum</span> of <span style=\"font-family: monospace; color: #222;\">cleaned_revenue</span> should be <strong>1038</strong>.\n",
    "  </span>\n",
    "</div>"
   ]
  },
  {
   "cell_type": "markdown",
   "id": "5fdd28a0",
   "metadata": {
    "id": "5fdd28a0"
   },
   "source": [
    "## Task 2: Monthly Analysis\n",
    "\n",
    "Great. With a cleaned list `cleaned_revenue` you're ready to calculate:\n",
    "- **The total amount made in each month.**\n",
    "- **The highest average (weekly) revenue.**\n",
    "\n",
    "You're told the months break down like this:\n",
    "- June: first 4 weeks\n",
    "- July: next 5 weeks\n",
    "- August: final 5 weeks\n",
    "\n",
    "\n",
    "Use slicing to get the relevant parts of the original revenue list, then use the `sum()` and `len()` functions to help you calculate the total and average for each month. Remember: the average will be the total revenue divided by the number of weeks.\n",
    "\n",
    "<div style=\"border: 3px solid #b67ae5; background-color: #f9f1ff; padding: 15px; border-radius: 8px; color: #222; display: flex; align-items: center;\">\n",
    "<span style=\"font-size: 10pt;\">\n",
    "<strong>Hint: </strong>Be careful about how indexing works in Python! You might want to try printing the slices you pull out first to check that they're capturing the correct values, before trying to summarize them.\n",
    "</span>\n",
    "</div>"
   ]
  },
  {
   "cell_type": "code",
   "execution_count": 17,
   "id": "cf67fdf5",
   "metadata": {
    "colab": {
     "base_uri": "https://localhost:8080/"
    },
    "executionInfo": {
     "elapsed": 125,
     "status": "ok",
     "timestamp": 1677633281832,
     "user": {
      "displayName": "Robert Alvarez",
      "userId": "04192298507777468272"
     },
     "user_tz": 360
    },
    "id": "cf67fdf5",
    "outputId": "32525d63-501d-4696-d0d4-b8a5085725d6"
   },
   "outputs": [
    {
     "name": "stdout",
     "output_type": "stream",
     "text": [
      "For June, the total revenue is 282 and the average revenue is 70.5.\n",
      "For July, the total revenue is 384 and the average revenue is 76.8.\n",
      "For August, the total revenue is 372 and the average revenue is 74.4.\n"
     ]
    }
   ],
   "source": [
    "# revenue by month\n",
    "june_revenue = cleaned_revenue[0:4]\n",
    "july_revenue = cleaned_revenue[4:9]\n",
    "august_revenue = cleaned_revenue[9:]\n",
    "\n",
    "# calculate sum\n",
    "june_total = sum(june_revenue)\n",
    "july_total = sum(july_revenue)\n",
    "august_total = sum(august_revenue)\n",
    "total = [june_total, july_total, august_total]\n",
    "\n",
    "# calculate avg\n",
    "june_avg = sum(june_revenue)/len(june_revenue)\n",
    "july_avg = sum(july_revenue)/len(july_revenue)\n",
    "august_avg = sum(august_revenue)/len(august_revenue)\n",
    "avg = [june_avg, july_avg, august_avg]\n",
    "\n",
    "# print the total amount and average revenue for each month\n",
    "months = ['June', 'July', 'August']\n",
    "for i in range(3):\n",
    "    print(f'For {months[i]}, the total revenue is {total[i]} and the average revenue is {avg[i]}.')\n"
   ]
  },
  {
   "cell_type": "markdown",
   "id": "ypxSVwU7YA3i",
   "metadata": {
    "id": "ypxSVwU7YA3i"
   },
   "source": [
    "<div style=\"border: 3px solid #f8c43e; background-color: #fff3c1; padding: 15px; border-radius: 8px; color: #222; display: flex; align-items: center;\">\n",
    "  <span style=\"font-size: 10pt;\">\n",
    "      If done correctly, the average values you should get are:\n",
    "  <ul>\n",
    "    <li>June: 70.5</li>\n",
    "    <li>July: 76.8</li>\n",
    "    <li>August: 74.4</li>\n",
    "  </ul>  </span>\n",
    "\n",
    "</div>"
   ]
  },
  {
   "cell_type": "markdown",
   "id": "3941057e",
   "metadata": {
    "id": "3941057e"
   },
   "source": [
    "Which month had the highest average revenue?"
   ]
  },
  {
   "cell_type": "markdown",
   "id": "Y_MttbI7Qm2e",
   "metadata": {
    "id": "Y_MttbI7Qm2e"
   },
   "source": [
    "July has the highest average revenue."
   ]
  },
  {
   "cell_type": "markdown",
   "id": "fJDyzM1ZP6aS",
   "metadata": {
    "id": "fJDyzM1ZP6aS"
   },
   "source": [
    "What do you think could explain the difference in revenue between months? Are there any patterns or external factors that could be influencing these fluctuations?\n",
    "\n",
    "<div style=\"border: 3px solid #30EE99; background-color: #f0fff4; padding: 15px; border-radius: 8px; color: #222; display: flex; align-items: center;\">\n",
    "  <span style=\"font-size: 10pt;\">\n",
    "    <strong>Try This AI Prompt:</strong> [MONTH] had the highest average revenue, but only by a small margin. What kinds of external factors might explain fluctuations in weekly sales for a fashion retailer like ASOS?\n",
    "  </span>\n",
    "</div>"
   ]
  },
  {
   "cell_type": "markdown",
   "id": "FhyXmPGdQqYe",
   "metadata": {
    "id": "FhyXmPGdQqYe"
   },
   "source": [
    "July had the highest average revenue, but only by a small margin. Fluctuations in weekly sales for a fashion retailer like ASOS can be influenced by a variety of external factors. These include seasonal demand for summer clothing, marketing campaigns, weather changes, and the timing of major events. For example, U.S. Independence Day on July 4th often drives holiday sales and increased shopping activity, especially from American customers. Other factors such as limited-time discounts, product drops, or even supply chain disruptions can also affect weekly revenue patterns."
   ]
  },
  {
   "cell_type": "markdown",
   "id": "qIs7I0FkQ2gV",
   "metadata": {
    "id": "qIs7I0FkQ2gV"
   },
   "source": [
    "## LevelUp\n",
    "\n",
    "If you were preparing a short internal summary for ASOS leadership, what is one clear takeaway about monthly revenue performance and what would you recommend they investigate further?"
   ]
  },
  {
   "cell_type": "markdown",
   "id": "BGaAwvpxQ_kI",
   "metadata": {
    "id": "BGaAwvpxQ_kI"
   },
   "source": [
    "July achieved the highest average weekly revenue, narrowly outperforming June and August. This suggests consistent demand across the summer period, with a possible boost in July from holiday-related promotions or U.S. Independence Day traffic. My recommended action is to investigate what specifically drove July’s peak, such as targeted marketing campaigns, product drops, or geographic trends (for example, U.S. versus UK sales). Also, we should identify which efforts had the greatest impact can help optimize performance in future seasonal campaigns."
   ]
  }
 ],
 "metadata": {
  "colab": {
   "provenance": []
  },
  "kernelspec": {
   "display_name": "Python 3 (ipykernel)",
   "language": "python",
   "name": "python3"
  },
  "language_info": {
   "codemirror_mode": {
    "name": "ipython",
    "version": 3
   },
   "file_extension": ".py",
   "mimetype": "text/x-python",
   "name": "python",
   "nbconvert_exporter": "python",
   "pygments_lexer": "ipython3",
   "version": "3.10.6"
  }
 },
 "nbformat": 4,
 "nbformat_minor": 5
}
